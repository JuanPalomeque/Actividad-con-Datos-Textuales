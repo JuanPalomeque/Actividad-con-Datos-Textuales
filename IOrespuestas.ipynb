{
 "cells": [
  {
   "cell_type": "markdown",
   "id": "59e24863",
   "metadata": {},
   "source": [
    "# Actividad con Datos Textuales"
   ]
  },
  {
   "cell_type": "code",
   "execution_count": 522,
   "id": "3569ce44",
   "metadata": {},
   "outputs": [
    {
     "data": {
      "text/html": [
       "<div>\n",
       "<style scoped>\n",
       "    .dataframe tbody tr th:only-of-type {\n",
       "        vertical-align: middle;\n",
       "    }\n",
       "\n",
       "    .dataframe tbody tr th {\n",
       "        vertical-align: top;\n",
       "    }\n",
       "\n",
       "    .dataframe thead th {\n",
       "        text-align: right;\n",
       "    }\n",
       "</style>\n",
       "<table border=\"1\" class=\"dataframe\">\n",
       "  <thead>\n",
       "    <tr style=\"text-align: right;\">\n",
       "      <th></th>\n",
       "      <th>Marca temporal</th>\n",
       "      <th>Dirección de correo electrónico</th>\n",
       "      <th>Padrón sin números</th>\n",
       "      <th>¿qué es la Investigación Operativa?</th>\n",
       "    </tr>\n",
       "  </thead>\n",
       "  <tbody>\n",
       "    <tr>\n",
       "      <th>0</th>\n",
       "      <td>30/03/2022 17:49:38</td>\n",
       "      <td>pcortif@fi.uba.ar</td>\n",
       "      <td>100723</td>\n",
       "      <td>Se basa en  la utilización de métodos analític...</td>\n",
       "    </tr>\n",
       "    <tr>\n",
       "      <th>1</th>\n",
       "      <td>30/03/2022 18:00:36</td>\n",
       "      <td>mcirolini@fi.uba.ar</td>\n",
       "      <td>97739</td>\n",
       "      <td>Optimización y diseño de operaciones, control ...</td>\n",
       "    </tr>\n",
       "    <tr>\n",
       "      <th>2</th>\n",
       "      <td>30/03/2022 18:30:40</td>\n",
       "      <td>rparedes@fi.uba.ar</td>\n",
       "      <td>97920</td>\n",
       "      <td>Aplicaciones de métodos operativos a la vida real</td>\n",
       "    </tr>\n",
       "    <tr>\n",
       "      <th>3</th>\n",
       "      <td>30/03/2022 19:20:14</td>\n",
       "      <td>mledesma@fi.uba.ar</td>\n",
       "      <td>102908</td>\n",
       "      <td>La optimización de las operaciones mediante el...</td>\n",
       "    </tr>\n",
       "    <tr>\n",
       "      <th>4</th>\n",
       "      <td>30/03/2022 19:20:32</td>\n",
       "      <td>tandrada@fi.uba.ar</td>\n",
       "      <td>100586</td>\n",
       "      <td>Una forma interdisciplinaria de resolver probl...</td>\n",
       "    </tr>\n",
       "    <tr>\n",
       "      <th>...</th>\n",
       "      <td>...</td>\n",
       "      <td>...</td>\n",
       "      <td>...</td>\n",
       "      <td>...</td>\n",
       "    </tr>\n",
       "    <tr>\n",
       "      <th>116</th>\n",
       "      <td>30/03/2022 21:52:35</td>\n",
       "      <td>jrenovales@fi.uba.ar</td>\n",
       "      <td>103787</td>\n",
       "      <td>Es el area que se encarga de aplicar distintos...</td>\n",
       "    </tr>\n",
       "    <tr>\n",
       "      <th>117</th>\n",
       "      <td>30/03/2022 23:07:20</td>\n",
       "      <td>jovillamil@fi.uba.ar</td>\n",
       "      <td>99825</td>\n",
       "      <td>NaN</td>\n",
       "    </tr>\n",
       "    <tr>\n",
       "      <th>118</th>\n",
       "      <td>31/03/2022 12:00:41</td>\n",
       "      <td>npesaresi@fi.uba.ar</td>\n",
       "      <td>104911</td>\n",
       "      <td>Aplicación de la ciencia moderna a problemas c...</td>\n",
       "    </tr>\n",
       "    <tr>\n",
       "      <th>119</th>\n",
       "      <td>1/04/2022 17:30:14</td>\n",
       "      <td>mjung@fi.uba.ar</td>\n",
       "      <td>102939</td>\n",
       "      <td>No pude completar la encuesta con el celular e...</td>\n",
       "    </tr>\n",
       "    <tr>\n",
       "      <th>120</th>\n",
       "      <td>2/04/2022 9:55:29</td>\n",
       "      <td>fcolotto@fi.uba.ar</td>\n",
       "      <td>101455</td>\n",
       "      <td>El estudio de las operaciones. Como distribuir...</td>\n",
       "    </tr>\n",
       "  </tbody>\n",
       "</table>\n",
       "<p>121 rows × 4 columns</p>\n",
       "</div>"
      ],
      "text/plain": [
       "          Marca temporal Dirección de correo electrónico  Padrón sin números  \\\n",
       "0    30/03/2022 17:49:38               pcortif@fi.uba.ar              100723   \n",
       "1    30/03/2022 18:00:36             mcirolini@fi.uba.ar               97739   \n",
       "2    30/03/2022 18:30:40              rparedes@fi.uba.ar               97920   \n",
       "3    30/03/2022 19:20:14              mledesma@fi.uba.ar              102908   \n",
       "4    30/03/2022 19:20:32              tandrada@fi.uba.ar              100586   \n",
       "..                   ...                             ...                 ...   \n",
       "116  30/03/2022 21:52:35            jrenovales@fi.uba.ar              103787   \n",
       "117  30/03/2022 23:07:20            jovillamil@fi.uba.ar               99825   \n",
       "118  31/03/2022 12:00:41             npesaresi@fi.uba.ar              104911   \n",
       "119   1/04/2022 17:30:14                 mjung@fi.uba.ar              102939   \n",
       "120    2/04/2022 9:55:29              fcolotto@fi.uba.ar              101455   \n",
       "\n",
       "                   ¿qué es la Investigación Operativa?  \n",
       "0    Se basa en  la utilización de métodos analític...  \n",
       "1    Optimización y diseño de operaciones, control ...  \n",
       "2    Aplicaciones de métodos operativos a la vida real  \n",
       "3    La optimización de las operaciones mediante el...  \n",
       "4    Una forma interdisciplinaria de resolver probl...  \n",
       "..                                                 ...  \n",
       "116  Es el area que se encarga de aplicar distintos...  \n",
       "117                                                NaN  \n",
       "118  Aplicación de la ciencia moderna a problemas c...  \n",
       "119  No pude completar la encuesta con el celular e...  \n",
       "120  El estudio de las operaciones. Como distribuir...  \n",
       "\n",
       "[121 rows x 4 columns]"
      ]
     },
     "execution_count": 522,
     "metadata": {},
     "output_type": "execute_result"
    }
   ],
   "source": [
    "from nltk.stem import WordNetLemmatizer\n",
    "from nltk.stem import SnowballStemmer\n",
    "from nltk.tokenize import word_tokenize\n",
    "from nltk.corpus import stopwords\n",
    "import matplotlib.pyplot as plt\n",
    "\n",
    "import pandas as pd\n",
    "pd.options.mode.chained_assignment = None  # default='warn'\n",
    "\n",
    "df = pd.read_csv(\"C:/Users/User/Documents/Facu/9216/IOrespuestas.csv\")\n",
    "df"
   ]
  },
  {
   "cell_type": "code",
   "execution_count": 523,
   "id": "170f7bdd",
   "metadata": {},
   "outputs": [
    {
     "data": {
      "text/html": [
       "<div>\n",
       "<style scoped>\n",
       "    .dataframe tbody tr th:only-of-type {\n",
       "        vertical-align: middle;\n",
       "    }\n",
       "\n",
       "    .dataframe tbody tr th {\n",
       "        vertical-align: top;\n",
       "    }\n",
       "\n",
       "    .dataframe thead th {\n",
       "        text-align: right;\n",
       "    }\n",
       "</style>\n",
       "<table border=\"1\" class=\"dataframe\">\n",
       "  <thead>\n",
       "    <tr style=\"text-align: right;\">\n",
       "      <th></th>\n",
       "      <th>padrón</th>\n",
       "      <th>texto</th>\n",
       "    </tr>\n",
       "  </thead>\n",
       "  <tbody>\n",
       "    <tr>\n",
       "      <th>0</th>\n",
       "      <td>100723</td>\n",
       "      <td>Se basa en  la utilización de métodos analític...</td>\n",
       "    </tr>\n",
       "    <tr>\n",
       "      <th>1</th>\n",
       "      <td>97739</td>\n",
       "      <td>Optimización y diseño de operaciones, control ...</td>\n",
       "    </tr>\n",
       "    <tr>\n",
       "      <th>2</th>\n",
       "      <td>97920</td>\n",
       "      <td>Aplicaciones de métodos operativos a la vida real</td>\n",
       "    </tr>\n",
       "    <tr>\n",
       "      <th>3</th>\n",
       "      <td>102908</td>\n",
       "      <td>La optimización de las operaciones mediante el...</td>\n",
       "    </tr>\n",
       "    <tr>\n",
       "      <th>4</th>\n",
       "      <td>100586</td>\n",
       "      <td>Una forma interdisciplinaria de resolver probl...</td>\n",
       "    </tr>\n",
       "    <tr>\n",
       "      <th>...</th>\n",
       "      <td>...</td>\n",
       "      <td>...</td>\n",
       "    </tr>\n",
       "    <tr>\n",
       "      <th>116</th>\n",
       "      <td>103787</td>\n",
       "      <td>Es el area que se encarga de aplicar distintos...</td>\n",
       "    </tr>\n",
       "    <tr>\n",
       "      <th>117</th>\n",
       "      <td>99825</td>\n",
       "      <td>NaN</td>\n",
       "    </tr>\n",
       "    <tr>\n",
       "      <th>118</th>\n",
       "      <td>104911</td>\n",
       "      <td>Aplicación de la ciencia moderna a problemas c...</td>\n",
       "    </tr>\n",
       "    <tr>\n",
       "      <th>119</th>\n",
       "      <td>102939</td>\n",
       "      <td>No pude completar la encuesta con el celular e...</td>\n",
       "    </tr>\n",
       "    <tr>\n",
       "      <th>120</th>\n",
       "      <td>101455</td>\n",
       "      <td>El estudio de las operaciones. Como distribuir...</td>\n",
       "    </tr>\n",
       "  </tbody>\n",
       "</table>\n",
       "<p>121 rows × 2 columns</p>\n",
       "</div>"
      ],
      "text/plain": [
       "     padrón                                              texto\n",
       "0    100723  Se basa en  la utilización de métodos analític...\n",
       "1     97739  Optimización y diseño de operaciones, control ...\n",
       "2     97920  Aplicaciones de métodos operativos a la vida real\n",
       "3    102908  La optimización de las operaciones mediante el...\n",
       "4    100586  Una forma interdisciplinaria de resolver probl...\n",
       "..      ...                                                ...\n",
       "116  103787  Es el area que se encarga de aplicar distintos...\n",
       "117   99825                                                NaN\n",
       "118  104911  Aplicación de la ciencia moderna a problemas c...\n",
       "119  102939  No pude completar la encuesta con el celular e...\n",
       "120  101455  El estudio de las operaciones. Como distribuir...\n",
       "\n",
       "[121 rows x 2 columns]"
      ]
     },
     "execution_count": 523,
     "metadata": {},
     "output_type": "execute_result"
    }
   ],
   "source": [
    "# SELLECIONO LAS COLUMNS QUE QUIERO Y LES CAMBIO EL NOMBRE\n",
    "\n",
    "df2=df[['Padrón sin números', '¿qué es la Investigación Operativa?']]\n",
    "df2.columns = ['padrón', 'texto']\n",
    "df2"
   ]
  },
  {
   "cell_type": "code",
   "execution_count": 524,
   "id": "88d7788f",
   "metadata": {},
   "outputs": [
    {
     "data": {
      "text/plain": [
       "'Se basa en  la utilización de métodos analíticos para ayudar a tomar mejores decisiones'"
      ]
     },
     "execution_count": 524,
     "metadata": {},
     "output_type": "execute_result"
    }
   ],
   "source": [
    "#EJEMPLO\n",
    "\n",
    "df2['texto'][0]\n"
   ]
  },
  {
   "cell_type": "markdown",
   "id": "da0f9788",
   "metadata": {},
   "source": [
    "# Defino las funciones"
   ]
  },
  {
   "cell_type": "code",
   "execution_count": 525,
   "id": "08072d4f",
   "metadata": {},
   "outputs": [],
   "source": [
    "# TOKENIZO\n",
    "\n",
    "def tokens(texto):\n",
    "    return [ w for w in word_tokenize(str(texto).lower()) if w.isalpha()]"
   ]
  },
  {
   "cell_type": "code",
   "execution_count": 526,
   "id": "0f4f2c4c",
   "metadata": {},
   "outputs": [
    {
     "data": {
      "text/plain": [
       "['se',\n",
       " 'basa',\n",
       " 'en',\n",
       " 'la',\n",
       " 'utilización',\n",
       " 'de',\n",
       " 'métodos',\n",
       " 'analíticos',\n",
       " 'para',\n",
       " 'ayudar',\n",
       " 'a',\n",
       " 'tomar',\n",
       " 'mejores',\n",
       " 'decisiones']"
      ]
     },
     "execution_count": 526,
     "metadata": {},
     "output_type": "execute_result"
    }
   ],
   "source": [
    "tokens(df2['texto'][0])"
   ]
  },
  {
   "cell_type": "code",
   "execution_count": 527,
   "id": "60220823",
   "metadata": {},
   "outputs": [],
   "source": [
    "# REMUEVO LOS STOP WORDS EN ESPAÑOL\n",
    "\n",
    "def no_stops(tokens):\n",
    "    return [t for t in tokens if t not in stopwords.words('spanish')]\n"
   ]
  },
  {
   "cell_type": "code",
   "execution_count": 528,
   "id": "bfce6455",
   "metadata": {},
   "outputs": [
    {
     "data": {
      "text/plain": [
       "['basa',\n",
       " 'utilización',\n",
       " 'métodos',\n",
       " 'analíticos',\n",
       " 'ayudar',\n",
       " 'tomar',\n",
       " 'mejores',\n",
       " 'decisiones']"
      ]
     },
     "execution_count": 528,
     "metadata": {},
     "output_type": "execute_result"
    }
   ],
   "source": [
    "no_stops(tokens(df2['texto'][0]))"
   ]
  },
  {
   "cell_type": "code",
   "execution_count": 529,
   "id": "447d7ca0",
   "metadata": {},
   "outputs": [],
   "source": [
    "# LEMANTIZO\n",
    "\n",
    "wordnet_lematizer = WordNetLemmatizer()\n",
    "spanish_stemmer = SnowballStemmer('spanish')\n",
    "\n",
    "\n",
    "def lematizador(texto):\n",
    "    #return [wordnet_lematizer.lemmatize(t) for t in texto]\n",
    "     return [ spanish_stemmer.stem(t) for t in texto ]\n",
    "    "
   ]
  },
  {
   "cell_type": "code",
   "execution_count": 530,
   "id": "5dcd66be",
   "metadata": {},
   "outputs": [
    {
     "data": {
      "text/plain": [
       "['bas', 'utiliz', 'metod', 'analit', 'ayud', 'tom', 'mejor', 'decision']"
      ]
     },
     "execution_count": 530,
     "metadata": {},
     "output_type": "execute_result"
    }
   ],
   "source": [
    "lematizador(no_stops(tokens(df2['texto'][0])))"
   ]
  },
  {
   "cell_type": "code",
   "execution_count": 531,
   "id": "78a6b5ab",
   "metadata": {},
   "outputs": [],
   "source": [
    "# JUNTO A TODAS LAS FUNCIONES EN UNA SOLA\n",
    "\n",
    "funciones = [tokens,no_stops,lematizador]\n",
    "\n",
    "def preparar(texto):\n",
    "    tokens = texto \n",
    "    for transformar in funciones:\n",
    "        tokens = transformar(tokens)\n",
    "    return tokens"
   ]
  },
  {
   "cell_type": "code",
   "execution_count": 532,
   "id": "c2db00bd",
   "metadata": {},
   "outputs": [],
   "source": [
    "# APLICO LA FUNCION A LA COLUMNA TEXTO\n",
    "\n",
    "df2['texto'] = df2['texto'].apply(preparar)\n"
   ]
  },
  {
   "cell_type": "code",
   "execution_count": 533,
   "id": "630f3dc7",
   "metadata": {},
   "outputs": [
    {
     "data": {
      "text/html": [
       "<div>\n",
       "<style scoped>\n",
       "    .dataframe tbody tr th:only-of-type {\n",
       "        vertical-align: middle;\n",
       "    }\n",
       "\n",
       "    .dataframe tbody tr th {\n",
       "        vertical-align: top;\n",
       "    }\n",
       "\n",
       "    .dataframe thead th {\n",
       "        text-align: right;\n",
       "    }\n",
       "</style>\n",
       "<table border=\"1\" class=\"dataframe\">\n",
       "  <thead>\n",
       "    <tr style=\"text-align: right;\">\n",
       "      <th></th>\n",
       "      <th>padrón</th>\n",
       "      <th>texto</th>\n",
       "    </tr>\n",
       "  </thead>\n",
       "  <tbody>\n",
       "    <tr>\n",
       "      <th>0</th>\n",
       "      <td>100723</td>\n",
       "      <td>[bas, utiliz, metod, analit, ayud, tom, mejor,...</td>\n",
       "    </tr>\n",
       "    <tr>\n",
       "      <th>1</th>\n",
       "      <td>97739</td>\n",
       "      <td>[optimiz, diseñ, oper, control, proces, indust...</td>\n",
       "    </tr>\n",
       "    <tr>\n",
       "      <th>2</th>\n",
       "      <td>97920</td>\n",
       "      <td>[aplic, metod, oper, vid, real]</td>\n",
       "    </tr>\n",
       "    <tr>\n",
       "      <th>3</th>\n",
       "      <td>102908</td>\n",
       "      <td>[optimiz, oper, mediant, uso, program]</td>\n",
       "    </tr>\n",
       "    <tr>\n",
       "      <th>4</th>\n",
       "      <td>100586</td>\n",
       "      <td>[form, interdisciplinari, resolv, problem, mul...</td>\n",
       "    </tr>\n",
       "    <tr>\n",
       "      <th>...</th>\n",
       "      <td>...</td>\n",
       "      <td>...</td>\n",
       "    </tr>\n",
       "    <tr>\n",
       "      <th>116</th>\n",
       "      <td>103787</td>\n",
       "      <td>[are, encarg, aplic, distint, metod, oper, ayu...</td>\n",
       "    </tr>\n",
       "    <tr>\n",
       "      <th>117</th>\n",
       "      <td>99825</td>\n",
       "      <td>[nan]</td>\n",
       "    </tr>\n",
       "    <tr>\n",
       "      <th>118</th>\n",
       "      <td>104911</td>\n",
       "      <td>[aplic, cienci, modern, problem, complej, apar...</td>\n",
       "    </tr>\n",
       "    <tr>\n",
       "      <th>119</th>\n",
       "      <td>102939</td>\n",
       "      <td>[pud, complet, encuest, celul, dia, clas, dij,...</td>\n",
       "    </tr>\n",
       "    <tr>\n",
       "      <th>120</th>\n",
       "      <td>101455</td>\n",
       "      <td>[estudi, oper, distribu, recurs, maximiz, bene...</td>\n",
       "    </tr>\n",
       "  </tbody>\n",
       "</table>\n",
       "<p>121 rows × 2 columns</p>\n",
       "</div>"
      ],
      "text/plain": [
       "     padrón                                              texto\n",
       "0    100723  [bas, utiliz, metod, analit, ayud, tom, mejor,...\n",
       "1     97739  [optimiz, diseñ, oper, control, proces, indust...\n",
       "2     97920                    [aplic, metod, oper, vid, real]\n",
       "3    102908             [optimiz, oper, mediant, uso, program]\n",
       "4    100586  [form, interdisciplinari, resolv, problem, mul...\n",
       "..      ...                                                ...\n",
       "116  103787  [are, encarg, aplic, distint, metod, oper, ayu...\n",
       "117   99825                                              [nan]\n",
       "118  104911  [aplic, cienci, modern, problem, complej, apar...\n",
       "119  102939  [pud, complet, encuest, celul, dia, clas, dij,...\n",
       "120  101455  [estudi, oper, distribu, recurs, maximiz, bene...\n",
       "\n",
       "[121 rows x 2 columns]"
      ]
     },
     "execution_count": 533,
     "metadata": {},
     "output_type": "execute_result"
    }
   ],
   "source": [
    "df2"
   ]
  },
  {
   "cell_type": "markdown",
   "id": "c53355e7",
   "metadata": {},
   "source": [
    "# Análisis"
   ]
  },
  {
   "cell_type": "code",
   "execution_count": 534,
   "id": "b3608684",
   "metadata": {},
   "outputs": [],
   "source": [
    "# DEFINICION DE WIKIPEDIA\n",
    "\n",
    "definicion = \"Es una disciplina que se ocupa de la aplicación de métodos analíticos avanzados para ayudar a tomar mejores decisiones empleando técnicas de otras ciencias matemáticas, como modelado matemático, análisis estadístico y optimización, la investigación de operaciones llega a soluciones óptimas o casi óptimas para problemas complejos de toma de decisiones\"\n"
   ]
  },
  {
   "cell_type": "code",
   "execution_count": 535,
   "id": "1f1c4a49",
   "metadata": {},
   "outputs": [
    {
     "data": {
      "text/plain": [
       "['disciplin',\n",
       " 'ocup',\n",
       " 'aplic',\n",
       " 'metod',\n",
       " 'analit',\n",
       " 'avanz',\n",
       " 'ayud',\n",
       " 'tom',\n",
       " 'mejor',\n",
       " 'decision',\n",
       " 'emple',\n",
       " 'tecnic',\n",
       " 'cienci',\n",
       " 'matemat',\n",
       " 'model',\n",
       " 'matemat',\n",
       " 'analisis',\n",
       " 'estadist',\n",
       " 'optimiz',\n",
       " 'investig',\n",
       " 'oper',\n",
       " 'lleg',\n",
       " 'solucion',\n",
       " 'optim',\n",
       " 'casi',\n",
       " 'optim',\n",
       " 'problem',\n",
       " 'complej',\n",
       " 'tom',\n",
       " 'decision']"
      ]
     },
     "execution_count": 535,
     "metadata": {},
     "output_type": "execute_result"
    }
   ],
   "source": [
    "# APLICO LA FUNCION PREPARAR A LA DEFINICION\n",
    "\n",
    "definicion_preparada = preparar(definicion)\n",
    "definicion_preparada\n"
   ]
  },
  {
   "cell_type": "code",
   "execution_count": 536,
   "id": "fa87b8ed",
   "metadata": {},
   "outputs": [
    {
     "name": "stdout",
     "output_type": "stream",
     "text": [
      "30\n"
     ]
    }
   ],
   "source": [
    "print(len(definicion_preparada))"
   ]
  },
  {
   "cell_type": "code",
   "execution_count": 537,
   "id": "712b510a",
   "metadata": {},
   "outputs": [
    {
     "data": {
      "text/plain": [
       "['bas', 'utiliz', 'metod', 'analit', 'ayud', 'tom', 'mejor', 'decision']"
      ]
     },
     "execution_count": 537,
     "metadata": {},
     "output_type": "execute_result"
    }
   ],
   "source": [
    "# EJEMPLO\n",
    "\n",
    "df2['texto'][0]"
   ]
  },
  {
   "cell_type": "code",
   "execution_count": 538,
   "id": "305a4bad",
   "metadata": {},
   "outputs": [],
   "source": [
    "def resultado(definicion_preparada, text):\n",
    "    valor= 0\n",
    "    for s in definicion_preparada:\n",
    "        for t in text:\n",
    "            if t in s:\n",
    "                valor += 1\n",
    "    return valor"
   ]
  },
  {
   "cell_type": "code",
   "execution_count": 539,
   "id": "336101ca",
   "metadata": {},
   "outputs": [
    {
     "data": {
      "text/plain": [
       "8"
      ]
     },
     "execution_count": 539,
     "metadata": {},
     "output_type": "execute_result"
    }
   ],
   "source": [
    "resultado(definicion_preparada, df2['texto'][0])"
   ]
  },
  {
   "cell_type": "code",
   "execution_count": 540,
   "id": "c8ebc1a1",
   "metadata": {},
   "outputs": [],
   "source": [
    "# APLICO LA FUNCION QUE CALCULA EL RESULTADO A UNA NUEVA COLUMNA\n",
    "\n",
    "df2['Nota'] = df2.apply(lambda x: resultado(definicion_preparada, x['texto']), axis =1 )"
   ]
  },
  {
   "cell_type": "code",
   "execution_count": 558,
   "id": "e342e2dc",
   "metadata": {},
   "outputs": [
    {
     "data": {
      "text/html": [
       "<div>\n",
       "<style scoped>\n",
       "    .dataframe tbody tr th:only-of-type {\n",
       "        vertical-align: middle;\n",
       "    }\n",
       "\n",
       "    .dataframe tbody tr th {\n",
       "        vertical-align: top;\n",
       "    }\n",
       "\n",
       "    .dataframe thead th {\n",
       "        text-align: right;\n",
       "    }\n",
       "</style>\n",
       "<table border=\"1\" class=\"dataframe\">\n",
       "  <thead>\n",
       "    <tr style=\"text-align: right;\">\n",
       "      <th></th>\n",
       "      <th>padrón</th>\n",
       "      <th>Nota</th>\n",
       "    </tr>\n",
       "  </thead>\n",
       "  <tbody>\n",
       "    <tr>\n",
       "      <th>0</th>\n",
       "      <td>100723</td>\n",
       "      <td>8</td>\n",
       "    </tr>\n",
       "    <tr>\n",
       "      <th>1</th>\n",
       "      <td>97739</td>\n",
       "      <td>2</td>\n",
       "    </tr>\n",
       "    <tr>\n",
       "      <th>2</th>\n",
       "      <td>97920</td>\n",
       "      <td>3</td>\n",
       "    </tr>\n",
       "    <tr>\n",
       "      <th>3</th>\n",
       "      <td>102908</td>\n",
       "      <td>2</td>\n",
       "    </tr>\n",
       "    <tr>\n",
       "      <th>4</th>\n",
       "      <td>100586</td>\n",
       "      <td>1</td>\n",
       "    </tr>\n",
       "    <tr>\n",
       "      <th>5</th>\n",
       "      <td>97920</td>\n",
       "      <td>2</td>\n",
       "    </tr>\n",
       "    <tr>\n",
       "      <th>6</th>\n",
       "      <td>102309</td>\n",
       "      <td>6</td>\n",
       "    </tr>\n",
       "    <tr>\n",
       "      <th>7</th>\n",
       "      <td>102120</td>\n",
       "      <td>2</td>\n",
       "    </tr>\n",
       "    <tr>\n",
       "      <th>8</th>\n",
       "      <td>101100</td>\n",
       "      <td>0</td>\n",
       "    </tr>\n",
       "    <tr>\n",
       "      <th>9</th>\n",
       "      <td>103803</td>\n",
       "      <td>11</td>\n",
       "    </tr>\n",
       "    <tr>\n",
       "      <th>10</th>\n",
       "      <td>104210</td>\n",
       "      <td>2</td>\n",
       "    </tr>\n",
       "    <tr>\n",
       "      <th>11</th>\n",
       "      <td>102408</td>\n",
       "      <td>2</td>\n",
       "    </tr>\n",
       "    <tr>\n",
       "      <th>12</th>\n",
       "      <td>103875</td>\n",
       "      <td>0</td>\n",
       "    </tr>\n",
       "    <tr>\n",
       "      <th>13</th>\n",
       "      <td>98667</td>\n",
       "      <td>0</td>\n",
       "    </tr>\n",
       "    <tr>\n",
       "      <th>14</th>\n",
       "      <td>102277</td>\n",
       "      <td>1</td>\n",
       "    </tr>\n",
       "    <tr>\n",
       "      <th>15</th>\n",
       "      <td>103858</td>\n",
       "      <td>2</td>\n",
       "    </tr>\n",
       "    <tr>\n",
       "      <th>16</th>\n",
       "      <td>102346</td>\n",
       "      <td>2</td>\n",
       "    </tr>\n",
       "    <tr>\n",
       "      <th>17</th>\n",
       "      <td>104102</td>\n",
       "      <td>1</td>\n",
       "    </tr>\n",
       "    <tr>\n",
       "      <th>18</th>\n",
       "      <td>90845</td>\n",
       "      <td>1</td>\n",
       "    </tr>\n",
       "    <tr>\n",
       "      <th>19</th>\n",
       "      <td>104122</td>\n",
       "      <td>4</td>\n",
       "    </tr>\n",
       "  </tbody>\n",
       "</table>\n",
       "</div>"
      ],
      "text/plain": [
       "    padrón  Nota\n",
       "0   100723     8\n",
       "1    97739     2\n",
       "2    97920     3\n",
       "3   102908     2\n",
       "4   100586     1\n",
       "5    97920     2\n",
       "6   102309     6\n",
       "7   102120     2\n",
       "8   101100     0\n",
       "9   103803    11\n",
       "10  104210     2\n",
       "11  102408     2\n",
       "12  103875     0\n",
       "13   98667     0\n",
       "14  102277     1\n",
       "15  103858     2\n",
       "16  102346     2\n",
       "17  104102     1\n",
       "18   90845     1\n",
       "19  104122     4"
      ]
     },
     "execution_count": 558,
     "metadata": {},
     "output_type": "execute_result"
    }
   ],
   "source": [
    "df3 = df2[['padrón','Nota']]\n",
    "df3.head(20)\n"
   ]
  },
  {
   "cell_type": "code",
   "execution_count": 559,
   "id": "5ba2acc1",
   "metadata": {},
   "outputs": [
    {
     "data": {
      "text/plain": [
       "121"
      ]
     },
     "execution_count": 559,
     "metadata": {},
     "output_type": "execute_result"
    }
   ],
   "source": [
    "len(df3['Nota'])"
   ]
  },
  {
   "cell_type": "code",
   "execution_count": 560,
   "id": "c1a462c0",
   "metadata": {},
   "outputs": [
    {
     "data": {
      "text/plain": [
       "Nota\n",
       "2     26\n",
       "4     17\n",
       "0     15\n",
       "1     14\n",
       "3     14\n",
       "5     10\n",
       "6      7\n",
       "7      6\n",
       "9      5\n",
       "8      4\n",
       "10     1\n",
       "11     1\n",
       "12     1\n",
       "Name: Nota, dtype: int64"
      ]
     },
     "execution_count": 560,
     "metadata": {},
     "output_type": "execute_result"
    }
   ],
   "source": [
    "df3.groupby('Nota')['Nota'].count().sort_values(ascending=False)"
   ]
  },
  {
   "cell_type": "code",
   "execution_count": 562,
   "id": "a7ae097b",
   "metadata": {},
   "outputs": [
    {
     "data": {
      "image/png": "[encoded data removed]",
      "text/plain": [
       "<Figure size 720x360 with 1 Axes>"
      ]
     },
     "metadata": {
      "needs_background": "light"
     },
     "output_type": "display_data"
    }
   ],
   "source": [
    "fig,axis = plt.subplots(nrows=1,ncols=1, figsize=(10,5))\n",
    "df3['Nota'].value_counts(ascending=True).plot(kind='barh',ax=axis)\n",
    "axis.invert_yaxis()\n",
    "\n",
    "fig.tight_layout()"
   ]
  },
  {
   "cell_type": "markdown",
   "id": "a38e8c4c",
   "metadata": {},
   "source": [
    "#  Poner la nota"
   ]
  },
  {
   "cell_type": "code",
   "execution_count": 563,
   "id": "b19bb5a9",
   "metadata": {},
   "outputs": [],
   "source": [
    "df4=df3"
   ]
  },
  {
   "cell_type": "code",
   "execution_count": 564,
   "id": "26c681a4",
   "metadata": {},
   "outputs": [],
   "source": [
    "# Si tiene más de 5 palabras que coincidan aprueban\n",
    "\n",
    "df4['Nota'] = df4['Nota'].apply(lambda x: 'Aprobado' if x > 4 else 'Desaprobado' )\n"
   ]
  },
  {
   "cell_type": "code",
   "execution_count": 565,
   "id": "22221f3f",
   "metadata": {},
   "outputs": [
    {
     "data": {
      "text/html": [
       "<div>\n",
       "<style scoped>\n",
       "    .dataframe tbody tr th:only-of-type {\n",
       "        vertical-align: middle;\n",
       "    }\n",
       "\n",
       "    .dataframe tbody tr th {\n",
       "        vertical-align: top;\n",
       "    }\n",
       "\n",
       "    .dataframe thead th {\n",
       "        text-align: right;\n",
       "    }\n",
       "</style>\n",
       "<table border=\"1\" class=\"dataframe\">\n",
       "  <thead>\n",
       "    <tr style=\"text-align: right;\">\n",
       "      <th></th>\n",
       "      <th>padrón</th>\n",
       "      <th>Nota</th>\n",
       "    </tr>\n",
       "  </thead>\n",
       "  <tbody>\n",
       "    <tr>\n",
       "      <th>0</th>\n",
       "      <td>100723</td>\n",
       "      <td>Aprobado</td>\n",
       "    </tr>\n",
       "    <tr>\n",
       "      <th>1</th>\n",
       "      <td>97739</td>\n",
       "      <td>Desaprobado</td>\n",
       "    </tr>\n",
       "    <tr>\n",
       "      <th>2</th>\n",
       "      <td>97920</td>\n",
       "      <td>Desaprobado</td>\n",
       "    </tr>\n",
       "    <tr>\n",
       "      <th>3</th>\n",
       "      <td>102908</td>\n",
       "      <td>Desaprobado</td>\n",
       "    </tr>\n",
       "    <tr>\n",
       "      <th>4</th>\n",
       "      <td>100586</td>\n",
       "      <td>Desaprobado</td>\n",
       "    </tr>\n",
       "    <tr>\n",
       "      <th>5</th>\n",
       "      <td>97920</td>\n",
       "      <td>Desaprobado</td>\n",
       "    </tr>\n",
       "    <tr>\n",
       "      <th>6</th>\n",
       "      <td>102309</td>\n",
       "      <td>Aprobado</td>\n",
       "    </tr>\n",
       "    <tr>\n",
       "      <th>7</th>\n",
       "      <td>102120</td>\n",
       "      <td>Desaprobado</td>\n",
       "    </tr>\n",
       "    <tr>\n",
       "      <th>8</th>\n",
       "      <td>101100</td>\n",
       "      <td>Desaprobado</td>\n",
       "    </tr>\n",
       "    <tr>\n",
       "      <th>9</th>\n",
       "      <td>103803</td>\n",
       "      <td>Aprobado</td>\n",
       "    </tr>\n",
       "    <tr>\n",
       "      <th>10</th>\n",
       "      <td>104210</td>\n",
       "      <td>Desaprobado</td>\n",
       "    </tr>\n",
       "    <tr>\n",
       "      <th>11</th>\n",
       "      <td>102408</td>\n",
       "      <td>Desaprobado</td>\n",
       "    </tr>\n",
       "    <tr>\n",
       "      <th>12</th>\n",
       "      <td>103875</td>\n",
       "      <td>Desaprobado</td>\n",
       "    </tr>\n",
       "    <tr>\n",
       "      <th>13</th>\n",
       "      <td>98667</td>\n",
       "      <td>Desaprobado</td>\n",
       "    </tr>\n",
       "    <tr>\n",
       "      <th>14</th>\n",
       "      <td>102277</td>\n",
       "      <td>Desaprobado</td>\n",
       "    </tr>\n",
       "    <tr>\n",
       "      <th>15</th>\n",
       "      <td>103858</td>\n",
       "      <td>Desaprobado</td>\n",
       "    </tr>\n",
       "    <tr>\n",
       "      <th>16</th>\n",
       "      <td>102346</td>\n",
       "      <td>Desaprobado</td>\n",
       "    </tr>\n",
       "    <tr>\n",
       "      <th>17</th>\n",
       "      <td>104102</td>\n",
       "      <td>Desaprobado</td>\n",
       "    </tr>\n",
       "    <tr>\n",
       "      <th>18</th>\n",
       "      <td>90845</td>\n",
       "      <td>Desaprobado</td>\n",
       "    </tr>\n",
       "    <tr>\n",
       "      <th>19</th>\n",
       "      <td>104122</td>\n",
       "      <td>Desaprobado</td>\n",
       "    </tr>\n",
       "  </tbody>\n",
       "</table>\n",
       "</div>"
      ],
      "text/plain": [
       "    padrón         Nota\n",
       "0   100723     Aprobado\n",
       "1    97739  Desaprobado\n",
       "2    97920  Desaprobado\n",
       "3   102908  Desaprobado\n",
       "4   100586  Desaprobado\n",
       "5    97920  Desaprobado\n",
       "6   102309     Aprobado\n",
       "7   102120  Desaprobado\n",
       "8   101100  Desaprobado\n",
       "9   103803     Aprobado\n",
       "10  104210  Desaprobado\n",
       "11  102408  Desaprobado\n",
       "12  103875  Desaprobado\n",
       "13   98667  Desaprobado\n",
       "14  102277  Desaprobado\n",
       "15  103858  Desaprobado\n",
       "16  102346  Desaprobado\n",
       "17  104102  Desaprobado\n",
       "18   90845  Desaprobado\n",
       "19  104122  Desaprobado"
      ]
     },
     "execution_count": 565,
     "metadata": {},
     "output_type": "execute_result"
    }
   ],
   "source": [
    "df4.head(20)"
   ]
  },
  {
   "cell_type": "code",
   "execution_count": 566,
   "id": "b75255d4",
   "metadata": {},
   "outputs": [
    {
     "data": {
      "text/plain": [
       "Nota\n",
       "Desaprobado    86\n",
       "Aprobado       35\n",
       "Name: Nota, dtype: int64"
      ]
     },
     "execution_count": 566,
     "metadata": {},
     "output_type": "execute_result"
    }
   ],
   "source": [
    "df4.groupby('Nota')['Nota'].count().sort_values(ascending=False)"
   ]
  },
  {
   "cell_type": "code",
   "execution_count": 569,
   "id": "2d12608a",
   "metadata": {},
   "outputs": [
    {
     "data": {
      "image/png": "[encoded data removed]",
      "text/plain": [
       "<Figure size 360x360 with 1 Axes>"
      ]
     },
     "metadata": {
      "needs_background": "light"
     },
     "output_type": "display_data"
    }
   ],
   "source": [
    "fig,axis = plt.subplots(nrows=1,ncols=1, figsize=(5,5))\n",
    "df3['Nota'].value_counts(ascending=True).plot(kind='bar',ax=axis)\n",
    "\n",
    "\n",
    "fig.tight_layout()"
   ]
  },
  {
   "cell_type": "code",
   "execution_count": null,
   "id": "35b7ba20",
   "metadata": {},
   "outputs": [],
   "source": []
  }
 ],
 "metadata": {
  "kernelspec": {
   "display_name": "Python 3 (ipykernel)",
   "language": "python",
   "name": "python3"
  },
  "language_info": {
   "codemirror_mode": {
    "name": "ipython",
    "version": 3
   },
   "file_extension": ".py",
   "mimetype": "text/x-python",
   "name": "python",
   "nbconvert_exporter": "python",
   "pygments_lexer": "ipython3",
   "version": "3.8.8"
  }
 },
 "nbformat": 4,
 "nbformat_minor": 5
}
