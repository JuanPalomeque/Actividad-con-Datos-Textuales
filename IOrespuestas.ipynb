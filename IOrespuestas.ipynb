{
 "cells": [
  {
   "cell_type": "markdown",
   "id": "70cb2b68",
   "metadata": {},
   "source": [
    "# Actividad con Datos Textuales"
   ]
  },
  {
   "cell_type": "code",
   "execution_count": 1,
   "id": "a17a36bf",
   "metadata": {},
   "outputs": [
    {
     "data": {
      "text/html": [
       "<div>\n",
       "<style scoped>\n",
       "    .dataframe tbody tr th:only-of-type {\n",
       "        vertical-align: middle;\n",
       "    }\n",
       "\n",
       "    .dataframe tbody tr th {\n",
       "        vertical-align: top;\n",
       "    }\n",
       "\n",
       "    .dataframe thead th {\n",
       "        text-align: right;\n",
       "    }\n",
       "</style>\n",
       "<table border=\"1\" class=\"dataframe\">\n",
       "  <thead>\n",
       "    <tr style=\"text-align: right;\">\n",
       "      <th></th>\n",
       "      <th>Marca temporal</th>\n",
       "      <th>Dirección de correo electrónico</th>\n",
       "      <th>Padrón sin números</th>\n",
       "      <th>¿qué es la Investigación Operativa?</th>\n",
       "    </tr>\n",
       "  </thead>\n",
       "  <tbody>\n",
       "    <tr>\n",
       "      <th>0</th>\n",
       "      <td>30/03/2022 17:49:38</td>\n",
       "      <td>pcortif@fi.uba.ar</td>\n",
       "      <td>100723</td>\n",
       "      <td>Se basa en  la utilización de métodos analític...</td>\n",
       "    </tr>\n",
       "    <tr>\n",
       "      <th>1</th>\n",
       "      <td>30/03/2022 18:00:36</td>\n",
       "      <td>mcirolini@fi.uba.ar</td>\n",
       "      <td>97739</td>\n",
       "      <td>Optimización y diseño de operaciones, control ...</td>\n",
       "    </tr>\n",
       "    <tr>\n",
       "      <th>2</th>\n",
       "      <td>30/03/2022 18:30:40</td>\n",
       "      <td>rparedes@fi.uba.ar</td>\n",
       "      <td>97920</td>\n",
       "      <td>Aplicaciones de métodos operativos a la vida real</td>\n",
       "    </tr>\n",
       "    <tr>\n",
       "      <th>3</th>\n",
       "      <td>30/03/2022 19:20:14</td>\n",
       "      <td>mledesma@fi.uba.ar</td>\n",
       "      <td>102908</td>\n",
       "      <td>La optimización de las operaciones mediante el...</td>\n",
       "    </tr>\n",
       "    <tr>\n",
       "      <th>4</th>\n",
       "      <td>30/03/2022 19:20:32</td>\n",
       "      <td>tandrada@fi.uba.ar</td>\n",
       "      <td>100586</td>\n",
       "      <td>Una forma interdisciplinaria de resolver probl...</td>\n",
       "    </tr>\n",
       "    <tr>\n",
       "      <th>...</th>\n",
       "      <td>...</td>\n",
       "      <td>...</td>\n",
       "      <td>...</td>\n",
       "      <td>...</td>\n",
       "    </tr>\n",
       "    <tr>\n",
       "      <th>116</th>\n",
       "      <td>30/03/2022 21:52:35</td>\n",
       "      <td>jrenovales@fi.uba.ar</td>\n",
       "      <td>103787</td>\n",
       "      <td>Es el area que se encarga de aplicar distintos...</td>\n",
       "    </tr>\n",
       "    <tr>\n",
       "      <th>117</th>\n",
       "      <td>30/03/2022 23:07:20</td>\n",
       "      <td>jovillamil@fi.uba.ar</td>\n",
       "      <td>99825</td>\n",
       "      <td>NaN</td>\n",
       "    </tr>\n",
       "    <tr>\n",
       "      <th>118</th>\n",
       "      <td>31/03/2022 12:00:41</td>\n",
       "      <td>npesaresi@fi.uba.ar</td>\n",
       "      <td>104911</td>\n",
       "      <td>Aplicación de la ciencia moderna a problemas c...</td>\n",
       "    </tr>\n",
       "    <tr>\n",
       "      <th>119</th>\n",
       "      <td>1/04/2022 17:30:14</td>\n",
       "      <td>mjung@fi.uba.ar</td>\n",
       "      <td>102939</td>\n",
       "      <td>No pude completar la encuesta con el celular e...</td>\n",
       "    </tr>\n",
       "    <tr>\n",
       "      <th>120</th>\n",
       "      <td>2/04/2022 9:55:29</td>\n",
       "      <td>fcolotto@fi.uba.ar</td>\n",
       "      <td>101455</td>\n",
       "      <td>El estudio de las operaciones. Como distribuir...</td>\n",
       "    </tr>\n",
       "  </tbody>\n",
       "</table>\n",
       "<p>121 rows × 4 columns</p>\n",
       "</div>"
      ],
      "text/plain": [
       "          Marca temporal Dirección de correo electrónico  Padrón sin números  \\\n",
       "0    30/03/2022 17:49:38               pcortif@fi.uba.ar              100723   \n",
       "1    30/03/2022 18:00:36             mcirolini@fi.uba.ar               97739   \n",
       "2    30/03/2022 18:30:40              rparedes@fi.uba.ar               97920   \n",
       "3    30/03/2022 19:20:14              mledesma@fi.uba.ar              102908   \n",
       "4    30/03/2022 19:20:32              tandrada@fi.uba.ar              100586   \n",
       "..                   ...                             ...                 ...   \n",
       "116  30/03/2022 21:52:35            jrenovales@fi.uba.ar              103787   \n",
       "117  30/03/2022 23:07:20            jovillamil@fi.uba.ar               99825   \n",
       "118  31/03/2022 12:00:41             npesaresi@fi.uba.ar              104911   \n",
       "119   1/04/2022 17:30:14                 mjung@fi.uba.ar              102939   \n",
       "120    2/04/2022 9:55:29              fcolotto@fi.uba.ar              101455   \n",
       "\n",
       "                   ¿qué es la Investigación Operativa?  \n",
       "0    Se basa en  la utilización de métodos analític...  \n",
       "1    Optimización y diseño de operaciones, control ...  \n",
       "2    Aplicaciones de métodos operativos a la vida real  \n",
       "3    La optimización de las operaciones mediante el...  \n",
       "4    Una forma interdisciplinaria de resolver probl...  \n",
       "..                                                 ...  \n",
       "116  Es el area que se encarga de aplicar distintos...  \n",
       "117                                                NaN  \n",
       "118  Aplicación de la ciencia moderna a problemas c...  \n",
       "119  No pude completar la encuesta con el celular e...  \n",
       "120  El estudio de las operaciones. Como distribuir...  \n",
       "\n",
       "[121 rows x 4 columns]"
      ]
     },
     "execution_count": 1,
     "metadata": {},
     "output_type": "execute_result"
    }
   ],
   "source": [
    "from nltk.stem import WordNetLemmatizer\n",
    "from nltk.stem import SnowballStemmer\n",
    "from nltk.tokenize import word_tokenize\n",
    "from nltk.corpus import stopwords\n",
    "import matplotlib.pyplot as plt\n",
    "\n",
    "import pandas as pd\n",
    "pd.options.mode.chained_assignment = None  # default='warn'\n",
    "\n",
    "df = pd.read_csv(\"C:/Users/User/Documents/Facu/9216/IOrespuestas.csv\")\n",
    "df"
   ]
  },
  {
   "cell_type": "code",
   "execution_count": 2,
   "id": "a831d64f",
   "metadata": {},
   "outputs": [
    {
     "data": {
      "text/html": [
       "<div>\n",
       "<style scoped>\n",
       "    .dataframe tbody tr th:only-of-type {\n",
       "        vertical-align: middle;\n",
       "    }\n",
       "\n",
       "    .dataframe tbody tr th {\n",
       "        vertical-align: top;\n",
       "    }\n",
       "\n",
       "    .dataframe thead th {\n",
       "        text-align: right;\n",
       "    }\n",
       "</style>\n",
       "<table border=\"1\" class=\"dataframe\">\n",
       "  <thead>\n",
       "    <tr style=\"text-align: right;\">\n",
       "      <th></th>\n",
       "      <th>padrón</th>\n",
       "      <th>texto</th>\n",
       "    </tr>\n",
       "  </thead>\n",
       "  <tbody>\n",
       "    <tr>\n",
       "      <th>0</th>\n",
       "      <td>100723</td>\n",
       "      <td>Se basa en  la utilización de métodos analític...</td>\n",
       "    </tr>\n",
       "    <tr>\n",
       "      <th>1</th>\n",
       "      <td>97739</td>\n",
       "      <td>Optimización y diseño de operaciones, control ...</td>\n",
       "    </tr>\n",
       "    <tr>\n",
       "      <th>2</th>\n",
       "      <td>97920</td>\n",
       "      <td>Aplicaciones de métodos operativos a la vida real</td>\n",
       "    </tr>\n",
       "    <tr>\n",
       "      <th>3</th>\n",
       "      <td>102908</td>\n",
       "      <td>La optimización de las operaciones mediante el...</td>\n",
       "    </tr>\n",
       "    <tr>\n",
       "      <th>4</th>\n",
       "      <td>100586</td>\n",
       "      <td>Una forma interdisciplinaria de resolver probl...</td>\n",
       "    </tr>\n",
       "    <tr>\n",
       "      <th>...</th>\n",
       "      <td>...</td>\n",
       "      <td>...</td>\n",
       "    </tr>\n",
       "    <tr>\n",
       "      <th>116</th>\n",
       "      <td>103787</td>\n",
       "      <td>Es el area que se encarga de aplicar distintos...</td>\n",
       "    </tr>\n",
       "    <tr>\n",
       "      <th>117</th>\n",
       "      <td>99825</td>\n",
       "      <td>NaN</td>\n",
       "    </tr>\n",
       "    <tr>\n",
       "      <th>118</th>\n",
       "      <td>104911</td>\n",
       "      <td>Aplicación de la ciencia moderna a problemas c...</td>\n",
       "    </tr>\n",
       "    <tr>\n",
       "      <th>119</th>\n",
       "      <td>102939</td>\n",
       "      <td>No pude completar la encuesta con el celular e...</td>\n",
       "    </tr>\n",
       "    <tr>\n",
       "      <th>120</th>\n",
       "      <td>101455</td>\n",
       "      <td>El estudio de las operaciones. Como distribuir...</td>\n",
       "    </tr>\n",
       "  </tbody>\n",
       "</table>\n",
       "<p>121 rows × 2 columns</p>\n",
       "</div>"
      ],
      "text/plain": [
       "     padrón                                              texto\n",
       "0    100723  Se basa en  la utilización de métodos analític...\n",
       "1     97739  Optimización y diseño de operaciones, control ...\n",
       "2     97920  Aplicaciones de métodos operativos a la vida real\n",
       "3    102908  La optimización de las operaciones mediante el...\n",
       "4    100586  Una forma interdisciplinaria de resolver probl...\n",
       "..      ...                                                ...\n",
       "116  103787  Es el area que se encarga de aplicar distintos...\n",
       "117   99825                                                NaN\n",
       "118  104911  Aplicación de la ciencia moderna a problemas c...\n",
       "119  102939  No pude completar la encuesta con el celular e...\n",
       "120  101455  El estudio de las operaciones. Como distribuir...\n",
       "\n",
       "[121 rows x 2 columns]"
      ]
     },
     "execution_count": 2,
     "metadata": {},
     "output_type": "execute_result"
    }
   ],
   "source": [
    "# SELLECIONO LAS COLUMNS QUE QUIERO Y LES CAMBIO EL NOMBRE\n",
    "\n",
    "df2=df[['Padrón sin números', '¿qué es la Investigación Operativa?']]\n",
    "df2.columns = ['padrón', 'texto']\n",
    "df2"
   ]
  },
  {
   "cell_type": "code",
   "execution_count": 3,
   "id": "ba504375",
   "metadata": {},
   "outputs": [
    {
     "data": {
      "text/plain": [
       "'Se basa en  la utilización de métodos analíticos para ayudar a tomar mejores decisiones'"
      ]
     },
     "execution_count": 3,
     "metadata": {},
     "output_type": "execute_result"
    }
   ],
   "source": [
    "#EJEMPLO\n",
    "\n",
    "df2['texto'][0]\n"
   ]
  },
  {
   "cell_type": "markdown",
   "id": "f82b5b3c",
   "metadata": {},
   "source": [
    "# Defino las funciones"
   ]
  },
  {
   "cell_type": "code",
   "execution_count": 4,
   "id": "fc9b9b2a",
   "metadata": {},
   "outputs": [],
   "source": [
    "# TOKENIZO\n",
    "\n",
    "def funcion(texto):\n",
    "    tokens= [ w for w in word_tokenize(str(texto).lower()) if w.isalpha()]\n",
    "    tokens = [t for t in tokens if t not in stopwords.words('spanish')]\n",
    "    spanish_stemmer = SnowballStemmer('spanish')\n",
    "    tokens = [ spanish_stemmer.stem(t) for t in tokens ]\n",
    "    return tokens"
   ]
  },
  {
   "cell_type": "code",
   "execution_count": 5,
   "id": "121edc2f",
   "metadata": {},
   "outputs": [
    {
     "data": {
      "text/html": [
       "<div>\n",
       "<style scoped>\n",
       "    .dataframe tbody tr th:only-of-type {\n",
       "        vertical-align: middle;\n",
       "    }\n",
       "\n",
       "    .dataframe tbody tr th {\n",
       "        vertical-align: top;\n",
       "    }\n",
       "\n",
       "    .dataframe thead th {\n",
       "        text-align: right;\n",
       "    }\n",
       "</style>\n",
       "<table border=\"1\" class=\"dataframe\">\n",
       "  <thead>\n",
       "    <tr style=\"text-align: right;\">\n",
       "      <th></th>\n",
       "      <th>padrón</th>\n",
       "      <th>texto</th>\n",
       "    </tr>\n",
       "  </thead>\n",
       "  <tbody>\n",
       "    <tr>\n",
       "      <th>0</th>\n",
       "      <td>100723</td>\n",
       "      <td>Se basa en  la utilización de métodos analític...</td>\n",
       "    </tr>\n",
       "    <tr>\n",
       "      <th>1</th>\n",
       "      <td>97739</td>\n",
       "      <td>Optimización y diseño de operaciones, control ...</td>\n",
       "    </tr>\n",
       "    <tr>\n",
       "      <th>2</th>\n",
       "      <td>97920</td>\n",
       "      <td>Aplicaciones de métodos operativos a la vida real</td>\n",
       "    </tr>\n",
       "    <tr>\n",
       "      <th>3</th>\n",
       "      <td>102908</td>\n",
       "      <td>La optimización de las operaciones mediante el...</td>\n",
       "    </tr>\n",
       "    <tr>\n",
       "      <th>4</th>\n",
       "      <td>100586</td>\n",
       "      <td>Una forma interdisciplinaria de resolver probl...</td>\n",
       "    </tr>\n",
       "    <tr>\n",
       "      <th>...</th>\n",
       "      <td>...</td>\n",
       "      <td>...</td>\n",
       "    </tr>\n",
       "    <tr>\n",
       "      <th>116</th>\n",
       "      <td>103787</td>\n",
       "      <td>Es el area que se encarga de aplicar distintos...</td>\n",
       "    </tr>\n",
       "    <tr>\n",
       "      <th>117</th>\n",
       "      <td>99825</td>\n",
       "      <td>NaN</td>\n",
       "    </tr>\n",
       "    <tr>\n",
       "      <th>118</th>\n",
       "      <td>104911</td>\n",
       "      <td>Aplicación de la ciencia moderna a problemas c...</td>\n",
       "    </tr>\n",
       "    <tr>\n",
       "      <th>119</th>\n",
       "      <td>102939</td>\n",
       "      <td>No pude completar la encuesta con el celular e...</td>\n",
       "    </tr>\n",
       "    <tr>\n",
       "      <th>120</th>\n",
       "      <td>101455</td>\n",
       "      <td>El estudio de las operaciones. Como distribuir...</td>\n",
       "    </tr>\n",
       "  </tbody>\n",
       "</table>\n",
       "<p>121 rows × 2 columns</p>\n",
       "</div>"
      ],
      "text/plain": [
       "     padrón                                              texto\n",
       "0    100723  Se basa en  la utilización de métodos analític...\n",
       "1     97739  Optimización y diseño de operaciones, control ...\n",
       "2     97920  Aplicaciones de métodos operativos a la vida real\n",
       "3    102908  La optimización de las operaciones mediante el...\n",
       "4    100586  Una forma interdisciplinaria de resolver probl...\n",
       "..      ...                                                ...\n",
       "116  103787  Es el area que se encarga de aplicar distintos...\n",
       "117   99825                                                NaN\n",
       "118  104911  Aplicación de la ciencia moderna a problemas c...\n",
       "119  102939  No pude completar la encuesta con el celular e...\n",
       "120  101455  El estudio de las operaciones. Como distribuir...\n",
       "\n",
       "[121 rows x 2 columns]"
      ]
     },
     "execution_count": 5,
     "metadata": {},
     "output_type": "execute_result"
    }
   ],
   "source": [
    "df2"
   ]
  },
  {
   "cell_type": "code",
   "execution_count": 6,
   "id": "9d0c105e",
   "metadata": {},
   "outputs": [],
   "source": [
    "df2['texto'] = df2['texto'].apply(funcion)\n"
   ]
  },
  {
   "cell_type": "code",
   "execution_count": 7,
   "id": "f476d56d",
   "metadata": {},
   "outputs": [
    {
     "data": {
      "text/plain": [
       "['aplic', 'metod', 'oper', 'vid', 'real']"
      ]
     },
     "execution_count": 7,
     "metadata": {},
     "output_type": "execute_result"
    }
   ],
   "source": [
    "df2['texto'][2]"
   ]
  },
  {
   "cell_type": "markdown",
   "id": "a1edd601",
   "metadata": {},
   "source": [
    "# --------------     Análisis    ------------------------------------------------------------------------------"
   ]
  },
  {
   "cell_type": "code",
   "execution_count": 162,
   "id": "c434c9d4",
   "metadata": {},
   "outputs": [],
   "source": [
    "# DEFINICION DE WIKIPEDIA (https://es.wikipedia.org/wiki/Investigaci%C3%B3n_de_operaciones)\n",
    "\n",
    "definicion = '''Es una disciplina que se ocupa de la aplicación de métodos analíticos avanzados para ayudar a tomar mejores\n",
    "                decisiones empleando técnicas de otras ciencias matemáticas, como modelado matemático, análisis estadístico\n",
    "                y optimización llegando a soluciones óptimas o casi óptimas para problemas complejos de toma de decisiones:\n",
    "                operaciones,operativo, datos, proyecto, machine, learning, investigación, racional, informática, procesos, \n",
    "                productivos'''\n",
    "\n"
   ]
  },
  {
   "cell_type": "code",
   "execution_count": 163,
   "id": "fd7741e4",
   "metadata": {},
   "outputs": [
    {
     "data": {
      "text/plain": [
       "{'analisis',\n",
       " 'analit',\n",
       " 'aplic',\n",
       " 'avanz',\n",
       " 'ayud',\n",
       " 'casi',\n",
       " 'cienci',\n",
       " 'complej',\n",
       " 'dat',\n",
       " 'decision',\n",
       " 'disciplin',\n",
       " 'emple',\n",
       " 'estadist',\n",
       " 'informat',\n",
       " 'investig',\n",
       " 'learning',\n",
       " 'lleg',\n",
       " 'machin',\n",
       " 'matemat',\n",
       " 'mejor',\n",
       " 'metod',\n",
       " 'model',\n",
       " 'ocup',\n",
       " 'oper',\n",
       " 'optim',\n",
       " 'optimiz',\n",
       " 'problem',\n",
       " 'proces',\n",
       " 'product',\n",
       " 'proyect',\n",
       " 'racional',\n",
       " 'solucion',\n",
       " 'tecnic',\n",
       " 'tom'}"
      ]
     },
     "execution_count": 163,
     "metadata": {},
     "output_type": "execute_result"
    }
   ],
   "source": [
    "# APLICO LA FUNCION PREPARAR A LA DEFINICION de WIKIPEDIA\n",
    "\n",
    "import numpy as np\n",
    "\n",
    "definicion_preparada = set(funcion(definicion)) # set, texto único\n",
    "definicion_preparada"
   ]
  },
  {
   "cell_type": "code",
   "execution_count": 179,
   "id": "8ed447d7",
   "metadata": {},
   "outputs": [],
   "source": [
    "#Coloco los pesos\n",
    "pesos = np.array([0.5,1,0.5,1,0.25,-0.25,-0.25,2,1,-1,1,0.25,-1,1,1,0.25,0.25,1,1,0.25,-0.5,-2,2,0.5,0.5,-1,-1,1,0.25,1,1,0.75,1,0.5]) \n"
   ]
  },
  {
   "cell_type": "code",
   "execution_count": 180,
   "id": "291589a0",
   "metadata": {},
   "outputs": [
    {
     "data": {
      "text/plain": [
       "dict_items([('aplic', 0.5), ('optimiz', 1.0), ('analit', 0.5), ('model', 1.0), ('ocup', 0.25), ('racional', -0.25), ('proyect', -0.25), ('metod', 2.0), ('ayud', 1.0), ('product', -1.0), ('cienci', 1.0), ('casi', 0.25), ('machin', -1.0), ('solucion', 1.0), ('disciplin', 1.0), ('tom', 0.25), ('emple', 0.25), ('estadist', 1.0), ('informat', 1.0), ('proces', 0.25), ('lleg', -0.5), ('oper', -2.0), ('investig', 2.0), ('decision', 0.5), ('tecnic', 0.5), ('complej', -1.0), ('dat', -1.0), ('learning', 1.0), ('avanz', 0.25), ('mejor', 1.0), ('optim', 1.0), ('problem', 0.75), ('matemat', 1.0), ('analisis', 0.5)])"
      ]
     },
     "execution_count": 180,
     "metadata": {},
     "output_type": "execute_result"
    }
   ],
   "source": [
    "#Creo un diccionario que vincule a los tokens de la definición con los pesos\n",
    "\n",
    "tokens_pesos = dict(zip(definicion_preparada, pesos ))\n",
    "tokens_pesos.items() #sorted(tokens_pesos.items(), key=lambda x: x[0]) "
   ]
  },
  {
   "cell_type": "code",
   "execution_count": 171,
   "id": "18086c85",
   "metadata": {},
   "outputs": [],
   "source": [
    "#CREO LA FUNCION QUE SUMA LOS PESOS\n",
    "\n",
    "def suma_pesos(definicion_preparada, text):\n",
    "    valor= 0\n",
    "    for s in definicion_preparada:\n",
    "        for t in text:\n",
    "            if t == s:\n",
    "                valor += tokens_pesos[t]\n",
    "            \n",
    "    return valor "
   ]
  },
  {
   "cell_type": "code",
   "execution_count": 172,
   "id": "16f8db98",
   "metadata": {},
   "outputs": [],
   "source": [
    "# APLICO LA FUNCION QUE CALCULA EL RESULTADO A UNA NUEVA COLUMNA\n",
    "\n",
    "df2['Nota'] = round(df2.apply(lambda x: suma_pesos(definicion_preparada, x['texto']), axis =1 ),2)\n"
   ]
  },
  {
   "cell_type": "markdown",
   "id": "46235e14",
   "metadata": {},
   "source": [
    "#  Test"
   ]
  },
  {
   "cell_type": "code",
   "execution_count": 191,
   "id": "ff5660c0",
   "metadata": {},
   "outputs": [
    {
     "data": {
      "text/plain": [
       "6.5"
      ]
     },
     "execution_count": 191,
     "metadata": {},
     "output_type": "execute_result"
    }
   ],
   "source": [
    "df2['Nota'][58]"
   ]
  },
  {
   "cell_type": "code",
   "execution_count": 193,
   "id": "7edfdbc0",
   "metadata": {},
   "outputs": [
    {
     "data": {
      "text/plain": [
       "['investig',\n",
       " 'oper',\n",
       " 'enseñ',\n",
       " 'resolv',\n",
       " 'problem',\n",
       " 'ambit',\n",
       " 'vid',\n",
       " 'cotidian',\n",
       " 'trabaj',\n",
       " 'negoci',\n",
       " 'etc',\n",
       " 'permit',\n",
       " 'aproxim',\n",
       " 'problem',\n",
       " 'model',\n",
       " 'aplic',\n",
       " 'metod',\n",
       " 'resolu',\n",
       " 'model']"
      ]
     },
     "execution_count": 193,
     "metadata": {},
     "output_type": "execute_result"
    }
   ],
   "source": [
    "df2['texto'][58]"
   ]
  },
  {
   "cell_type": "markdown",
   "id": "16b91b66",
   "metadata": {},
   "source": [
    "#  Poner la nota según criterio"
   ]
  },
  {
   "cell_type": "code",
   "execution_count": 194,
   "id": "5528846c",
   "metadata": {},
   "outputs": [],
   "source": [
    "# Si tiene menos de 2.1     nota = 0\n",
    "# Si tiene entre 2  y 4   nota = 1\n",
    "# Si tiene más de 4       nota = 2\n",
    "\n",
    "def notas(valor):\n",
    "    if valor < 2.1:\n",
    "        x = 0\n",
    "    elif valor < 4:\n",
    "        x = 1\n",
    "    else:\n",
    "        x = 2\n",
    "    return x\n",
    "    \n",
    "\n",
    "\n"
   ]
  },
  {
   "cell_type": "code",
   "execution_count": 195,
   "id": "a0b13bf1",
   "metadata": {},
   "outputs": [],
   "source": [
    "df3['Nota'] = df2['Nota'].apply(notas)\n",
    "df3['padrón'] = df2['padrón']"
   ]
  },
  {
   "cell_type": "code",
   "execution_count": 196,
   "id": "0e3505e2",
   "metadata": {},
   "outputs": [
    {
     "data": {
      "text/html": [
       "<div>\n",
       "<style scoped>\n",
       "    .dataframe tbody tr th:only-of-type {\n",
       "        vertical-align: middle;\n",
       "    }\n",
       "\n",
       "    .dataframe tbody tr th {\n",
       "        vertical-align: top;\n",
       "    }\n",
       "\n",
       "    .dataframe thead th {\n",
       "        text-align: right;\n",
       "    }\n",
       "</style>\n",
       "<table border=\"1\" class=\"dataframe\">\n",
       "  <thead>\n",
       "    <tr style=\"text-align: right;\">\n",
       "      <th></th>\n",
       "      <th>padrón</th>\n",
       "      <th>Nota</th>\n",
       "    </tr>\n",
       "  </thead>\n",
       "  <tbody>\n",
       "    <tr>\n",
       "      <th>0</th>\n",
       "      <td>100723</td>\n",
       "      <td>2</td>\n",
       "    </tr>\n",
       "    <tr>\n",
       "      <th>1</th>\n",
       "      <td>97739</td>\n",
       "      <td>0</td>\n",
       "    </tr>\n",
       "    <tr>\n",
       "      <th>2</th>\n",
       "      <td>97920</td>\n",
       "      <td>0</td>\n",
       "    </tr>\n",
       "    <tr>\n",
       "      <th>3</th>\n",
       "      <td>102908</td>\n",
       "      <td>0</td>\n",
       "    </tr>\n",
       "    <tr>\n",
       "      <th>4</th>\n",
       "      <td>100586</td>\n",
       "      <td>0</td>\n",
       "    </tr>\n",
       "    <tr>\n",
       "      <th>5</th>\n",
       "      <td>97920</td>\n",
       "      <td>0</td>\n",
       "    </tr>\n",
       "    <tr>\n",
       "      <th>6</th>\n",
       "      <td>102309</td>\n",
       "      <td>2</td>\n",
       "    </tr>\n",
       "    <tr>\n",
       "      <th>7</th>\n",
       "      <td>102120</td>\n",
       "      <td>1</td>\n",
       "    </tr>\n",
       "    <tr>\n",
       "      <th>8</th>\n",
       "      <td>101100</td>\n",
       "      <td>0</td>\n",
       "    </tr>\n",
       "    <tr>\n",
       "      <th>9</th>\n",
       "      <td>103803</td>\n",
       "      <td>2</td>\n",
       "    </tr>\n",
       "    <tr>\n",
       "      <th>10</th>\n",
       "      <td>104210</td>\n",
       "      <td>0</td>\n",
       "    </tr>\n",
       "    <tr>\n",
       "      <th>11</th>\n",
       "      <td>102408</td>\n",
       "      <td>0</td>\n",
       "    </tr>\n",
       "    <tr>\n",
       "      <th>12</th>\n",
       "      <td>103875</td>\n",
       "      <td>0</td>\n",
       "    </tr>\n",
       "    <tr>\n",
       "      <th>13</th>\n",
       "      <td>98667</td>\n",
       "      <td>0</td>\n",
       "    </tr>\n",
       "    <tr>\n",
       "      <th>14</th>\n",
       "      <td>102277</td>\n",
       "      <td>0</td>\n",
       "    </tr>\n",
       "    <tr>\n",
       "      <th>15</th>\n",
       "      <td>103858</td>\n",
       "      <td>0</td>\n",
       "    </tr>\n",
       "    <tr>\n",
       "      <th>16</th>\n",
       "      <td>102346</td>\n",
       "      <td>0</td>\n",
       "    </tr>\n",
       "    <tr>\n",
       "      <th>17</th>\n",
       "      <td>104102</td>\n",
       "      <td>0</td>\n",
       "    </tr>\n",
       "    <tr>\n",
       "      <th>18</th>\n",
       "      <td>90845</td>\n",
       "      <td>0</td>\n",
       "    </tr>\n",
       "    <tr>\n",
       "      <th>19</th>\n",
       "      <td>104122</td>\n",
       "      <td>0</td>\n",
       "    </tr>\n",
       "  </tbody>\n",
       "</table>\n",
       "</div>"
      ],
      "text/plain": [
       "    padrón  Nota\n",
       "0   100723     2\n",
       "1    97739     0\n",
       "2    97920     0\n",
       "3   102908     0\n",
       "4   100586     0\n",
       "5    97920     0\n",
       "6   102309     2\n",
       "7   102120     1\n",
       "8   101100     0\n",
       "9   103803     2\n",
       "10  104210     0\n",
       "11  102408     0\n",
       "12  103875     0\n",
       "13   98667     0\n",
       "14  102277     0\n",
       "15  103858     0\n",
       "16  102346     0\n",
       "17  104102     0\n",
       "18   90845     0\n",
       "19  104122     0"
      ]
     },
     "execution_count": 196,
     "metadata": {},
     "output_type": "execute_result"
    }
   ],
   "source": [
    "df3.head(20)"
   ]
  },
  {
   "cell_type": "code",
   "execution_count": 197,
   "id": "a4947fdc",
   "metadata": {},
   "outputs": [],
   "source": [
    "df3['Nota'].to_csv(\"C:/Users/User/Desktop/Notas de algoritmo.csv\", index=False)"
   ]
  },
  {
   "cell_type": "code",
   "execution_count": null,
   "id": "d5ef386d",
   "metadata": {},
   "outputs": [],
   "source": []
  },
  {
   "cell_type": "code",
   "execution_count": null,
   "id": "692c2c24",
   "metadata": {},
   "outputs": [],
   "source": []
  },
  {
   "cell_type": "code",
   "execution_count": null,
   "id": "b412d530",
   "metadata": {},
   "outputs": [],
   "source": []
  },
  {
   "cell_type": "code",
   "execution_count": null,
   "id": "8ab013b5",
   "metadata": {},
   "outputs": [],
   "source": []
  }
 ],
 "metadata": {
  "kernelspec": {
   "display_name": "Python 3 (ipykernel)",
   "language": "python",
   "name": "python3"
  },
  "language_info": {
   "codemirror_mode": {
    "name": "ipython",
    "version": 3
   },
   "file_extension": ".py",
   "mimetype": "text/x-python",
   "name": "python",
   "nbconvert_exporter": "python",
   "pygments_lexer": "ipython3",
   "version": "3.8.8"
  }
 },
 "nbformat": 4,
 "nbformat_minor": 5
}
