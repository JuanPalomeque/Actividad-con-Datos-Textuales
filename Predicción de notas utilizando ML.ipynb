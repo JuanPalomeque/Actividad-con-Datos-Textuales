{
 "cells": [
  {
   "cell_type": "markdown",
   "id": "70cb2b68",
   "metadata": {},
   "source": [
    "# Actividad con Datos Textuales con aprendisaje automático"
   ]
  },
  {
   "cell_type": "code",
   "execution_count": 30,
   "id": "a17a36bf",
   "metadata": {},
   "outputs": [],
   "source": [
    "from nltk.stem import WordNetLemmatizer\n",
    "from nltk.stem import SnowballStemmer\n",
    "from nltk.tokenize import word_tokenize\n",
    "from nltk.corpus import stopwords\n",
    "import textacy.preprocessing as tprep\n",
    "import matplotlib.pyplot as plt\n",
    "import pandas as pd\n",
    "import numpy as np\n",
    "import warnings\n"
   ]
  },
  {
   "cell_type": "markdown",
   "id": "1c58440b",
   "metadata": {},
   "source": [
    "--------------------------------Cargo la base de datos---------------------------------------------------------------------"
   ]
  },
  {
   "cell_type": "code",
   "execution_count": 31,
   "id": "9583203a",
   "metadata": {},
   "outputs": [],
   "source": [
    "df = pd.read_csv(\"IOrespuestas.csv\")\n",
    "pd.options.mode.chained_assignment = None  # default='warn'\n",
    "warnings.filterwarnings('ignore')"
   ]
  },
  {
   "cell_type": "markdown",
   "id": "f1b83277",
   "metadata": {},
   "source": [
    "-----------------------------Preparo el Corpus para el trabajo---------------------------------------------------------"
   ]
  },
  {
   "cell_type": "code",
   "execution_count": 32,
   "id": "a831d64f",
   "metadata": {},
   "outputs": [
    {
     "data": {
      "text/html": [
       "<div>\n",
       "<style scoped>\n",
       "    .dataframe tbody tr th:only-of-type {\n",
       "        vertical-align: middle;\n",
       "    }\n",
       "\n",
       "    .dataframe tbody tr th {\n",
       "        vertical-align: top;\n",
       "    }\n",
       "\n",
       "    .dataframe thead th {\n",
       "        text-align: right;\n",
       "    }\n",
       "</style>\n",
       "<table border=\"1\" class=\"dataframe\">\n",
       "  <thead>\n",
       "    <tr style=\"text-align: right;\">\n",
       "      <th></th>\n",
       "      <th>padrón</th>\n",
       "      <th>texto</th>\n",
       "      <th>notas</th>\n",
       "    </tr>\n",
       "  </thead>\n",
       "  <tbody>\n",
       "    <tr>\n",
       "      <th>0</th>\n",
       "      <td>100723</td>\n",
       "      <td>Se basa en  la utilización de métodos analític...</td>\n",
       "      <td>2</td>\n",
       "    </tr>\n",
       "    <tr>\n",
       "      <th>1</th>\n",
       "      <td>97739</td>\n",
       "      <td>Optimización y diseño de operaciones, control ...</td>\n",
       "      <td>1</td>\n",
       "    </tr>\n",
       "    <tr>\n",
       "      <th>2</th>\n",
       "      <td>97920</td>\n",
       "      <td>Aplicaciones de métodos operativos a la vida real</td>\n",
       "      <td>0</td>\n",
       "    </tr>\n",
       "    <tr>\n",
       "      <th>3</th>\n",
       "      <td>102908</td>\n",
       "      <td>La optimización de las operaciones mediante el...</td>\n",
       "      <td>0</td>\n",
       "    </tr>\n",
       "    <tr>\n",
       "      <th>4</th>\n",
       "      <td>100586</td>\n",
       "      <td>Una forma interdisciplinaria de resolver probl...</td>\n",
       "      <td>0</td>\n",
       "    </tr>\n",
       "  </tbody>\n",
       "</table>\n",
       "</div>"
      ],
      "text/plain": [
       "   padrón                                              texto  notas\n",
       "0  100723  Se basa en  la utilización de métodos analític...      2\n",
       "1   97739  Optimización y diseño de operaciones, control ...      1\n",
       "2   97920  Aplicaciones de métodos operativos a la vida real      0\n",
       "3  102908  La optimización de las operaciones mediante el...      0\n",
       "4  100586  Una forma interdisciplinaria de resolver probl...      0"
      ]
     },
     "execution_count": 32,
     "metadata": {},
     "output_type": "execute_result"
    }
   ],
   "source": [
    "# SELLECIONO LAS COLUMNAS QUE QUIERO Y LES CAMBIO EL NOMBRE Y LAS PREPROCESO\n",
    "\n",
    "df=df[['Padrón sin números', '¿qué es la Investigación Operativa?']]\n",
    "df.columns = ['padrón', 'texto']\n",
    "df['notas'] = pd.read_csv(r\"C:\\Users\\User\\Ejercicios de Pyhton con Anaconda\\Claio\\Resultado_Notas_queEsIO_aMano.csv\")\n",
    "df['texto'] = df['texto'].astype('U')\n",
    "df.head()"
   ]
  },
  {
   "cell_type": "markdown",
   "id": "fb99a302",
   "metadata": {},
   "source": [
    "-------------------------------PREPROCESAMIENTO---------------------------------------------------------------------"
   ]
  },
  {
   "cell_type": "code",
   "execution_count": 5,
   "id": "f57918fc",
   "metadata": {},
   "outputs": [],
   "source": [
    "wordnet_lematizer = WordNetLemmatizer()\n",
    "spanish_stemmer = SnowballStemmer('spanish')\n",
    "\n",
    "def preprocesar(texto):\n",
    "    '''función que preprocesa el texto para ser trabajado'''\n",
    "    \n",
    "    tokens = [ tprep.remove.accents(str(w).lower()) for w in word_tokenize(texto) if w.isalpha() if len(w)>4]\n",
    "    tokens = [ spanish_stemmer.stem(t) for t in tokens ]\n",
    "    return tokens"
   ]
  },
  {
   "cell_type": "markdown",
   "id": "71229da1",
   "metadata": {},
   "source": [
    "--------------------------------Empiezo a entrenar---------------------------------------------------------------------"
   ]
  },
  {
   "cell_type": "code",
   "execution_count": 37,
   "id": "35d8fcbc",
   "metadata": {},
   "outputs": [],
   "source": [
    "# DEFINO LOS DATOS DE ENTRENAMIENTO Y PRUEBA (80%/20%)\n",
    "from sklearn.model_selection import train_test_split\n",
    "\n",
    "x_train, x_test,y_train,y_test = train_test_split(df['texto'], df['notas'], test_size=0.25) \n"
   ]
  },
  {
   "cell_type": "code",
   "execution_count": 38,
   "id": "ae3bfaa5",
   "metadata": {},
   "outputs": [],
   "source": [
    "from sklearn.feature_extraction.text import CountVectorizer\n",
    "\n",
    "cv = CountVectorizer(tokenizer = preprocesar, stop_words=stopwords.words('spanish'))"
   ]
  },
  {
   "cell_type": "code",
   "execution_count": 39,
   "id": "e8700420",
   "metadata": {},
   "outputs": [],
   "source": [
    "#INSTANCIO LAS TRANSFORMADAS DE LA VARIABLES EXPLICATIVAS\n",
    "count_train = cv.fit_transform(x_train)\n",
    "count_test = cv.transform(x_test)"
   ]
  },
  {
   "cell_type": "code",
   "execution_count": 40,
   "id": "0a49fbc1",
   "metadata": {},
   "outputs": [],
   "source": [
    "#USO DEL MODELO DE NAIVE-BAYES\n",
    "\n",
    "from sklearn.naive_bayes import MultinomialNB\n",
    "from sklearn import metrics\n",
    "\n",
    "count_nb = MultinomialNB()\n",
    "count_nb.fit(count_train, y_train)\n",
    "count_nb_pred = count_nb.predict(count_test)\n",
    "count_m = metrics.accuracy_score(y_test,count_nb_pred)\n"
   ]
  },
  {
   "cell_type": "code",
   "execution_count": 41,
   "id": "71dfc454",
   "metadata": {},
   "outputs": [],
   "source": [
    "from sklearn.feature_extraction.text import TfidfVectorizer\n",
    "\n",
    "tv = TfidfVectorizer(tokenizer = preprocesar, stop_words=stopwords.words('spanish') )\n",
    "tfidf_train = tv.fit_transform(x_train.values.astype('U'))\n",
    "tfidf_test = tv.transform(x_test.values.astype('U'))"
   ]
  },
  {
   "cell_type": "code",
   "execution_count": 42,
   "id": "cdff0b26",
   "metadata": {},
   "outputs": [
    {
     "data": {
      "text/plain": [
       "'La precisión de la predicción es del 77.42%'"
      ]
     },
     "execution_count": 42,
     "metadata": {},
     "output_type": "execute_result"
    }
   ],
   "source": [
    "# MIDO LA PRECISION DEL MODELO\n",
    "f'La precisión de la predicción es del {round(count_m*100,2)}%' "
   ]
  },
  {
   "cell_type": "code",
   "execution_count": 51,
   "id": "ae2153fc",
   "metadata": {},
   "outputs": [
    {
     "data": {
      "text/plain": [
       "'se predice la nota de \"1\" para el texto de prueba'"
      ]
     },
     "execution_count": 51,
     "metadata": {},
     "output_type": "execute_result"
    }
   ],
   "source": [
    "#Realizo una prueba sobre un texto de ejemplo\n",
    "\n",
    "texto_de_prueba = \"Es la optimización mediante el modelado y aplicación de la matemática\"\n",
    "\n",
    "texto_de_prueba_vectorizado_cv = cv.transform([texto_de_prueba])\n",
    "t_count_pred = count_nb.predict(texto_de_prueba_vectorizado_cv)\n",
    "f'se predice la nota de \"{int(t_count_pred) }\" para el texto de prueba'\n"
   ]
  },
  {
   "cell_type": "markdown",
   "id": "c5248ae3",
   "metadata": {},
   "source": [
    "### Resultados"
   ]
  },
  {
   "cell_type": "code",
   "execution_count": 56,
   "id": "324f216c",
   "metadata": {},
   "outputs": [],
   "source": [
    "def asignar_notas_ML(texto):\n",
    "    '''función que asigna el modelo de Naive-Bayes usando texto y notas como variables'''\n",
    "    notas_ML = [count_nb.predict(cv.transform([t])) for t in [texto] ]\n",
    "    return int(sum(notas_ML))\n"
   ]
  },
  {
   "cell_type": "code",
   "execution_count": 57,
   "id": "8e468984",
   "metadata": {},
   "outputs": [
    {
     "data": {
      "text/html": [
       "<div>\n",
       "<style scoped>\n",
       "    .dataframe tbody tr th:only-of-type {\n",
       "        vertical-align: middle;\n",
       "    }\n",
       "\n",
       "    .dataframe tbody tr th {\n",
       "        vertical-align: top;\n",
       "    }\n",
       "\n",
       "    .dataframe thead th {\n",
       "        text-align: right;\n",
       "    }\n",
       "</style>\n",
       "<table border=\"1\" class=\"dataframe\">\n",
       "  <thead>\n",
       "    <tr style=\"text-align: right;\">\n",
       "      <th></th>\n",
       "      <th>padrón</th>\n",
       "      <th>texto</th>\n",
       "      <th>notas</th>\n",
       "      <th>notas_ML</th>\n",
       "    </tr>\n",
       "  </thead>\n",
       "  <tbody>\n",
       "    <tr>\n",
       "      <th>0</th>\n",
       "      <td>100723</td>\n",
       "      <td>Se basa en  la utilización de métodos analític...</td>\n",
       "      <td>2</td>\n",
       "      <td>1</td>\n",
       "    </tr>\n",
       "    <tr>\n",
       "      <th>1</th>\n",
       "      <td>97739</td>\n",
       "      <td>Optimización y diseño de operaciones, control ...</td>\n",
       "      <td>1</td>\n",
       "      <td>1</td>\n",
       "    </tr>\n",
       "    <tr>\n",
       "      <th>2</th>\n",
       "      <td>97920</td>\n",
       "      <td>Aplicaciones de métodos operativos a la vida real</td>\n",
       "      <td>0</td>\n",
       "      <td>0</td>\n",
       "    </tr>\n",
       "    <tr>\n",
       "      <th>3</th>\n",
       "      <td>102908</td>\n",
       "      <td>La optimización de las operaciones mediante el...</td>\n",
       "      <td>0</td>\n",
       "      <td>0</td>\n",
       "    </tr>\n",
       "    <tr>\n",
       "      <th>4</th>\n",
       "      <td>100586</td>\n",
       "      <td>Una forma interdisciplinaria de resolver probl...</td>\n",
       "      <td>0</td>\n",
       "      <td>0</td>\n",
       "    </tr>\n",
       "  </tbody>\n",
       "</table>\n",
       "</div>"
      ],
      "text/plain": [
       "   padrón                                              texto  notas  notas_ML\n",
       "0  100723  Se basa en  la utilización de métodos analític...      2         1\n",
       "1   97739  Optimización y diseño de operaciones, control ...      1         1\n",
       "2   97920  Aplicaciones de métodos operativos a la vida real      0         0\n",
       "3  102908  La optimización de las operaciones mediante el...      0         0\n",
       "4  100586  Una forma interdisciplinaria de resolver probl...      0         0"
      ]
     },
     "execution_count": 57,
     "metadata": {},
     "output_type": "execute_result"
    }
   ],
   "source": [
    "df['notas_ML'] = df['texto'].apply(asignar_notas_ML)\n",
    "df.head()"
   ]
  },
  {
   "cell_type": "code",
   "execution_count": 46,
   "id": "6933f1d6",
   "metadata": {},
   "outputs": [],
   "source": [
    "df.to_excel(r\"C:\\Users\\User\\Ejercicios de Pyhton con Anaconda\\Claio\\Resultado_Notas_queEsIO_ML.xlsx\")"
   ]
  },
  {
   "cell_type": "code",
   "execution_count": null,
   "id": "9e607591",
   "metadata": {},
   "outputs": [],
   "source": []
  }
 ],
 "metadata": {
  "kernelspec": {
   "display_name": "Python 3 (ipykernel)",
   "language": "python",
   "name": "python3"
  },
  "language_info": {
   "codemirror_mode": {
    "name": "ipython",
    "version": 3
   },
   "file_extension": ".py",
   "mimetype": "text/x-python",
   "name": "python",
   "nbconvert_exporter": "python",
   "pygments_lexer": "ipython3",
   "version": "3.8.8"
  }
 },
 "nbformat": 4,
 "nbformat_minor": 5
}
