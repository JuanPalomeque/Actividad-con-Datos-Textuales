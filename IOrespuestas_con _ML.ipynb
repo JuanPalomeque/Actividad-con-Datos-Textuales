{
 "cells": [
  {
   "cell_type": "markdown",
   "id": "70cb2b68",
   "metadata": {},
   "source": [
    "# Actividad con Datos Textuales con aprendisaje automático"
   ]
  },
  {
   "cell_type": "code",
   "execution_count": 3,
   "id": "a17a36bf",
   "metadata": {},
   "outputs": [],
   "source": [
    "from nltk.stem import WordNetLemmatizer\n",
    "from nltk.stem import SnowballStemmer\n",
    "from nltk.tokenize import word_tokenize\n",
    "from nltk.corpus import stopwords\n",
    "import matplotlib.pyplot as plt\n",
    "import pandas as pd"
   ]
  },
  {
   "cell_type": "raw",
   "id": "78a72408",
   "metadata": {},
   "source": [
    "Cargo la base de datos"
   ]
  },
  {
   "cell_type": "code",
   "execution_count": 4,
   "id": "9583203a",
   "metadata": {},
   "outputs": [],
   "source": [
    "df = pd.read_csv(\"C:/Users/User/Documents/Facu/9216/IOrespuestas.csv\")\n",
    "pd.options.mode.chained_assignment = None  # default='warn'"
   ]
  },
  {
   "cell_type": "markdown",
   "id": "f1b83277",
   "metadata": {},
   "source": [
    "Comienzo a preparar el data frame para el trabajo"
   ]
  },
  {
   "cell_type": "code",
   "execution_count": 170,
   "id": "a831d64f",
   "metadata": {},
   "outputs": [
    {
     "data": {
      "text/html": [
       "<div>\n",
       "<style scoped>\n",
       "    .dataframe tbody tr th:only-of-type {\n",
       "        vertical-align: middle;\n",
       "    }\n",
       "\n",
       "    .dataframe tbody tr th {\n",
       "        vertical-align: top;\n",
       "    }\n",
       "\n",
       "    .dataframe thead th {\n",
       "        text-align: right;\n",
       "    }\n",
       "</style>\n",
       "<table border=\"1\" class=\"dataframe\">\n",
       "  <thead>\n",
       "    <tr style=\"text-align: right;\">\n",
       "      <th></th>\n",
       "      <th>padrón</th>\n",
       "      <th>texto</th>\n",
       "    </tr>\n",
       "  </thead>\n",
       "  <tbody>\n",
       "    <tr>\n",
       "      <th>0</th>\n",
       "      <td>100723</td>\n",
       "      <td>Se basa en  la utilización de métodos analític...</td>\n",
       "    </tr>\n",
       "    <tr>\n",
       "      <th>1</th>\n",
       "      <td>97739</td>\n",
       "      <td>Optimización y diseño de operaciones, control ...</td>\n",
       "    </tr>\n",
       "    <tr>\n",
       "      <th>2</th>\n",
       "      <td>97920</td>\n",
       "      <td>Aplicaciones de métodos operativos a la vida real</td>\n",
       "    </tr>\n",
       "    <tr>\n",
       "      <th>3</th>\n",
       "      <td>102908</td>\n",
       "      <td>La optimización de las operaciones mediante el...</td>\n",
       "    </tr>\n",
       "    <tr>\n",
       "      <th>4</th>\n",
       "      <td>100586</td>\n",
       "      <td>Una forma interdisciplinaria de resolver probl...</td>\n",
       "    </tr>\n",
       "    <tr>\n",
       "      <th>...</th>\n",
       "      <td>...</td>\n",
       "      <td>...</td>\n",
       "    </tr>\n",
       "    <tr>\n",
       "      <th>116</th>\n",
       "      <td>103787</td>\n",
       "      <td>Es el area que se encarga de aplicar distintos...</td>\n",
       "    </tr>\n",
       "    <tr>\n",
       "      <th>117</th>\n",
       "      <td>99825</td>\n",
       "      <td>NaN</td>\n",
       "    </tr>\n",
       "    <tr>\n",
       "      <th>118</th>\n",
       "      <td>104911</td>\n",
       "      <td>Aplicación de la ciencia moderna a problemas c...</td>\n",
       "    </tr>\n",
       "    <tr>\n",
       "      <th>119</th>\n",
       "      <td>102939</td>\n",
       "      <td>No pude completar la encuesta con el celular e...</td>\n",
       "    </tr>\n",
       "    <tr>\n",
       "      <th>120</th>\n",
       "      <td>101455</td>\n",
       "      <td>El estudio de las operaciones. Como distribuir...</td>\n",
       "    </tr>\n",
       "  </tbody>\n",
       "</table>\n",
       "<p>121 rows × 2 columns</p>\n",
       "</div>"
      ],
      "text/plain": [
       "     padrón                                              texto\n",
       "0    100723  Se basa en  la utilización de métodos analític...\n",
       "1     97739  Optimización y diseño de operaciones, control ...\n",
       "2     97920  Aplicaciones de métodos operativos a la vida real\n",
       "3    102908  La optimización de las operaciones mediante el...\n",
       "4    100586  Una forma interdisciplinaria de resolver probl...\n",
       "..      ...                                                ...\n",
       "116  103787  Es el area que se encarga de aplicar distintos...\n",
       "117   99825                                                NaN\n",
       "118  104911  Aplicación de la ciencia moderna a problemas c...\n",
       "119  102939  No pude completar la encuesta con el celular e...\n",
       "120  101455  El estudio de las operaciones. Como distribuir...\n",
       "\n",
       "[121 rows x 2 columns]"
      ]
     },
     "execution_count": 170,
     "metadata": {},
     "output_type": "execute_result"
    }
   ],
   "source": [
    "# SELLECIONO LAS COLUMNS QUE QUIERO Y LES CAMBIO EL NOMBRE\n",
    "\n",
    "df2=df[['Padrón sin números', '¿qué es la Investigación Operativa?']]\n",
    "df2.columns = ['padrón', 'texto']\n",
    "df2"
   ]
  },
  {
   "cell_type": "markdown",
   "id": "f82b5b3c",
   "metadata": {},
   "source": [
    "# ------------  Defino la base de datos  -------------------------------------------"
   ]
  },
  {
   "cell_type": "code",
   "execution_count": 171,
   "id": "a7e7cece",
   "metadata": {},
   "outputs": [],
   "source": [
    "df2['notas'] = pd.read_csv(\"C:/Users/User/Desktop/Notas de algoritmo.csv\")"
   ]
  },
  {
   "cell_type": "code",
   "execution_count": 172,
   "id": "0206032a",
   "metadata": {},
   "outputs": [
    {
     "data": {
      "text/html": [
       "<div>\n",
       "<style scoped>\n",
       "    .dataframe tbody tr th:only-of-type {\n",
       "        vertical-align: middle;\n",
       "    }\n",
       "\n",
       "    .dataframe tbody tr th {\n",
       "        vertical-align: top;\n",
       "    }\n",
       "\n",
       "    .dataframe thead th {\n",
       "        text-align: right;\n",
       "    }\n",
       "</style>\n",
       "<table border=\"1\" class=\"dataframe\">\n",
       "  <thead>\n",
       "    <tr style=\"text-align: right;\">\n",
       "      <th></th>\n",
       "      <th>padrón</th>\n",
       "      <th>texto</th>\n",
       "      <th>notas</th>\n",
       "    </tr>\n",
       "  </thead>\n",
       "  <tbody>\n",
       "    <tr>\n",
       "      <th>0</th>\n",
       "      <td>100723</td>\n",
       "      <td>Se basa en  la utilización de métodos analític...</td>\n",
       "      <td>2</td>\n",
       "    </tr>\n",
       "    <tr>\n",
       "      <th>1</th>\n",
       "      <td>97739</td>\n",
       "      <td>Optimización y diseño de operaciones, control ...</td>\n",
       "      <td>0</td>\n",
       "    </tr>\n",
       "    <tr>\n",
       "      <th>2</th>\n",
       "      <td>97920</td>\n",
       "      <td>Aplicaciones de métodos operativos a la vida real</td>\n",
       "      <td>0</td>\n",
       "    </tr>\n",
       "    <tr>\n",
       "      <th>3</th>\n",
       "      <td>102908</td>\n",
       "      <td>La optimización de las operaciones mediante el...</td>\n",
       "      <td>0</td>\n",
       "    </tr>\n",
       "    <tr>\n",
       "      <th>4</th>\n",
       "      <td>100586</td>\n",
       "      <td>Una forma interdisciplinaria de resolver probl...</td>\n",
       "      <td>0</td>\n",
       "    </tr>\n",
       "    <tr>\n",
       "      <th>...</th>\n",
       "      <td>...</td>\n",
       "      <td>...</td>\n",
       "      <td>...</td>\n",
       "    </tr>\n",
       "    <tr>\n",
       "      <th>116</th>\n",
       "      <td>103787</td>\n",
       "      <td>Es el area que se encarga de aplicar distintos...</td>\n",
       "      <td>1</td>\n",
       "    </tr>\n",
       "    <tr>\n",
       "      <th>117</th>\n",
       "      <td>99825</td>\n",
       "      <td>NaN</td>\n",
       "      <td>0</td>\n",
       "    </tr>\n",
       "    <tr>\n",
       "      <th>118</th>\n",
       "      <td>104911</td>\n",
       "      <td>Aplicación de la ciencia moderna a problemas c...</td>\n",
       "      <td>0</td>\n",
       "    </tr>\n",
       "    <tr>\n",
       "      <th>119</th>\n",
       "      <td>102939</td>\n",
       "      <td>No pude completar la encuesta con el celular e...</td>\n",
       "      <td>0</td>\n",
       "    </tr>\n",
       "    <tr>\n",
       "      <th>120</th>\n",
       "      <td>101455</td>\n",
       "      <td>El estudio de las operaciones. Como distribuir...</td>\n",
       "      <td>0</td>\n",
       "    </tr>\n",
       "  </tbody>\n",
       "</table>\n",
       "<p>121 rows × 3 columns</p>\n",
       "</div>"
      ],
      "text/plain": [
       "     padrón                                              texto  notas\n",
       "0    100723  Se basa en  la utilización de métodos analític...      2\n",
       "1     97739  Optimización y diseño de operaciones, control ...      0\n",
       "2     97920  Aplicaciones de métodos operativos a la vida real      0\n",
       "3    102908  La optimización de las operaciones mediante el...      0\n",
       "4    100586  Una forma interdisciplinaria de resolver probl...      0\n",
       "..      ...                                                ...    ...\n",
       "116  103787  Es el area que se encarga de aplicar distintos...      1\n",
       "117   99825                                                NaN      0\n",
       "118  104911  Aplicación de la ciencia moderna a problemas c...      0\n",
       "119  102939  No pude completar la encuesta con el celular e...      0\n",
       "120  101455  El estudio de las operaciones. Como distribuir...      0\n",
       "\n",
       "[121 rows x 3 columns]"
      ]
     },
     "execution_count": 172,
     "metadata": {},
     "output_type": "execute_result"
    }
   ],
   "source": [
    "df2"
   ]
  },
  {
   "cell_type": "code",
   "execution_count": 173,
   "id": "5e48de83",
   "metadata": {},
   "outputs": [
    {
     "data": {
      "text/html": [
       "<div>\n",
       "<style scoped>\n",
       "    .dataframe tbody tr th:only-of-type {\n",
       "        vertical-align: middle;\n",
       "    }\n",
       "\n",
       "    .dataframe tbody tr th {\n",
       "        vertical-align: top;\n",
       "    }\n",
       "\n",
       "    .dataframe thead th {\n",
       "        text-align: right;\n",
       "    }\n",
       "</style>\n",
       "<table border=\"1\" class=\"dataframe\">\n",
       "  <thead>\n",
       "    <tr style=\"text-align: right;\">\n",
       "      <th></th>\n",
       "      <th>texto</th>\n",
       "      <th>notas</th>\n",
       "    </tr>\n",
       "  </thead>\n",
       "  <tbody>\n",
       "    <tr>\n",
       "      <th>0</th>\n",
       "      <td>Se basa en  la utilización de métodos analític...</td>\n",
       "      <td>2</td>\n",
       "    </tr>\n",
       "    <tr>\n",
       "      <th>1</th>\n",
       "      <td>Optimización y diseño de operaciones, control ...</td>\n",
       "      <td>0</td>\n",
       "    </tr>\n",
       "    <tr>\n",
       "      <th>2</th>\n",
       "      <td>Aplicaciones de métodos operativos a la vida real</td>\n",
       "      <td>0</td>\n",
       "    </tr>\n",
       "    <tr>\n",
       "      <th>3</th>\n",
       "      <td>La optimización de las operaciones mediante el...</td>\n",
       "      <td>0</td>\n",
       "    </tr>\n",
       "    <tr>\n",
       "      <th>4</th>\n",
       "      <td>Una forma interdisciplinaria de resolver probl...</td>\n",
       "      <td>0</td>\n",
       "    </tr>\n",
       "    <tr>\n",
       "      <th>...</th>\n",
       "      <td>...</td>\n",
       "      <td>...</td>\n",
       "    </tr>\n",
       "    <tr>\n",
       "      <th>116</th>\n",
       "      <td>Es el area que se encarga de aplicar distintos...</td>\n",
       "      <td>1</td>\n",
       "    </tr>\n",
       "    <tr>\n",
       "      <th>117</th>\n",
       "      <td>NaN</td>\n",
       "      <td>0</td>\n",
       "    </tr>\n",
       "    <tr>\n",
       "      <th>118</th>\n",
       "      <td>Aplicación de la ciencia moderna a problemas c...</td>\n",
       "      <td>0</td>\n",
       "    </tr>\n",
       "    <tr>\n",
       "      <th>119</th>\n",
       "      <td>No pude completar la encuesta con el celular e...</td>\n",
       "      <td>0</td>\n",
       "    </tr>\n",
       "    <tr>\n",
       "      <th>120</th>\n",
       "      <td>El estudio de las operaciones. Como distribuir...</td>\n",
       "      <td>0</td>\n",
       "    </tr>\n",
       "  </tbody>\n",
       "</table>\n",
       "<p>121 rows × 2 columns</p>\n",
       "</div>"
      ],
      "text/plain": [
       "                                                 texto  notas\n",
       "0    Se basa en  la utilización de métodos analític...      2\n",
       "1    Optimización y diseño de operaciones, control ...      0\n",
       "2    Aplicaciones de métodos operativos a la vida real      0\n",
       "3    La optimización de las operaciones mediante el...      0\n",
       "4    Una forma interdisciplinaria de resolver probl...      0\n",
       "..                                                 ...    ...\n",
       "116  Es el area que se encarga de aplicar distintos...      1\n",
       "117                                                NaN      0\n",
       "118  Aplicación de la ciencia moderna a problemas c...      0\n",
       "119  No pude completar la encuesta con el celular e...      0\n",
       "120  El estudio de las operaciones. Como distribuir...      0\n",
       "\n",
       "[121 rows x 2 columns]"
      ]
     },
     "execution_count": 173,
     "metadata": {},
     "output_type": "execute_result"
    }
   ],
   "source": [
    "df3 = df2.drop(columns = 'padrón')\n",
    "df3"
   ]
  },
  {
   "cell_type": "code",
   "execution_count": 192,
   "id": "35d8fcbc",
   "metadata": {},
   "outputs": [],
   "source": [
    "# DEFINO LOS DATOS DE ENTRENAMIENTO Y PRUEBA (80/20)\n",
    "\n",
    "x_train, x_test,y_train,y_test = train_test_split(df3['texto'], df3['notas'], test_size=0.20, random_state=53)"
   ]
  },
  {
   "cell_type": "code",
   "execution_count": 193,
   "id": "ae3bfaa5",
   "metadata": {},
   "outputs": [],
   "source": [
    "cv = CountVectorizer(stop_words=stopwords.words('spanish'))"
   ]
  },
  {
   "cell_type": "code",
   "execution_count": 194,
   "id": "597fb5d5",
   "metadata": {},
   "outputs": [],
   "source": [
    "count_train = cv.fit_transform(x_train.values.astype('U'))"
   ]
  },
  {
   "cell_type": "code",
   "execution_count": 195,
   "id": "77fc9244",
   "metadata": {},
   "outputs": [],
   "source": [
    "count_test = cv.transform(x_test.values.astype('U'))"
   ]
  },
  {
   "cell_type": "code",
   "execution_count": 196,
   "id": "3dc7e6eb",
   "metadata": {},
   "outputs": [],
   "source": [
    "from sklearn.naive_bayes import MultinomialNB\n",
    "from sklearn import metrics"
   ]
  },
  {
   "cell_type": "code",
   "execution_count": null,
   "id": "0a49fbc1",
   "metadata": {},
   "outputs": [],
   "source": [
    "#USO DEL MODELO DE NAIVE-BAYES"
   ]
  },
  {
   "cell_type": "code",
   "execution_count": 209,
   "id": "d4601ed8",
   "metadata": {},
   "outputs": [],
   "source": [
    "nb = MultinomialNB()\n",
    "nb.fit(count_train, y_train)\n",
    "pred = nb.predict(count_test)\n",
    "m = metrics.accuracy_score(y_test, pred)"
   ]
  },
  {
   "cell_type": "code",
   "execution_count": 212,
   "id": "72950cce",
   "metadata": {},
   "outputs": [
    {
     "name": "stdout",
     "output_type": "stream",
     "text": [
      "La presición de la predicción es del 80.0%\n"
     ]
    }
   ],
   "source": [
    "print(f'La presición de la predicción es del {m*100}%' )"
   ]
  },
  {
   "cell_type": "code",
   "execution_count": 133,
   "id": "d5e9cd51",
   "metadata": {},
   "outputs": [
    {
     "data": {
      "text/plain": [
       "array([[14,  1,  1],\n",
       "       [ 2,  2,  1],\n",
       "       [ 0,  0,  4]], dtype=int64)"
      ]
     },
     "execution_count": 133,
     "metadata": {},
     "output_type": "execute_result"
    }
   ],
   "source": [
    "metrics.confusion_matrix(y_test, pred, labels=[0,1,2])"
   ]
  },
  {
   "cell_type": "code",
   "execution_count": 138,
   "id": "62b4d5de",
   "metadata": {},
   "outputs": [],
   "source": [
    "dict = {'respuestas': x_test, 'predicción':pred}"
   ]
  },
  {
   "cell_type": "code",
   "execution_count": 139,
   "id": "06af0a83",
   "metadata": {},
   "outputs": [],
   "source": [
    "df_res = pd.DataFrame(dict)"
   ]
  },
  {
   "cell_type": "code",
   "execution_count": 144,
   "id": "bdaa3b99",
   "metadata": {},
   "outputs": [
    {
     "data": {
      "text/html": [
       "<div>\n",
       "<style scoped>\n",
       "    .dataframe tbody tr th:only-of-type {\n",
       "        vertical-align: middle;\n",
       "    }\n",
       "\n",
       "    .dataframe tbody tr th {\n",
       "        vertical-align: top;\n",
       "    }\n",
       "\n",
       "    .dataframe thead th {\n",
       "        text-align: right;\n",
       "    }\n",
       "</style>\n",
       "<table border=\"1\" class=\"dataframe\">\n",
       "  <thead>\n",
       "    <tr style=\"text-align: right;\">\n",
       "      <th></th>\n",
       "      <th>respuestas</th>\n",
       "      <th>predicción</th>\n",
       "    </tr>\n",
       "  </thead>\n",
       "  <tbody>\n",
       "    <tr>\n",
       "      <th>0</th>\n",
       "      <td>Se basa en  la utilización de métodos analític...</td>\n",
       "      <td>2</td>\n",
       "    </tr>\n",
       "    <tr>\n",
       "      <th>19</th>\n",
       "      <td>Aplicación de la ciencia moderna a problemas c...</td>\n",
       "      <td>0</td>\n",
       "    </tr>\n",
       "    <tr>\n",
       "      <th>30</th>\n",
       "      <td>La investigación operativa es crear programas ...</td>\n",
       "      <td>0</td>\n",
       "    </tr>\n",
       "    <tr>\n",
       "      <th>85</th>\n",
       "      <td>Es poder encontrar soluciones racionales a pro...</td>\n",
       "      <td>2</td>\n",
       "    </tr>\n",
       "    <tr>\n",
       "      <th>60</th>\n",
       "      <td>Es el procesamiento de datos para un objetivo....</td>\n",
       "      <td>0</td>\n",
       "    </tr>\n",
       "    <tr>\n",
       "      <th>3</th>\n",
       "      <td>La optimización de las operaciones mediante el...</td>\n",
       "      <td>0</td>\n",
       "    </tr>\n",
       "    <tr>\n",
       "      <th>67</th>\n",
       "      <td>Una aplicación para poder resolver problemas c...</td>\n",
       "      <td>2</td>\n",
       "    </tr>\n",
       "    <tr>\n",
       "      <th>94</th>\n",
       "      <td>Da apoyo en la toma de decisiones mediante aut...</td>\n",
       "      <td>0</td>\n",
       "    </tr>\n",
       "    <tr>\n",
       "      <th>101</th>\n",
       "      <td>Una materia muy interesante, en la cual vamos ...</td>\n",
       "      <td>0</td>\n",
       "    </tr>\n",
       "    <tr>\n",
       "      <th>70</th>\n",
       "      <td>El empleo de modelos que ayudan a resolver cue...</td>\n",
       "      <td>0</td>\n",
       "    </tr>\n",
       "    <tr>\n",
       "      <th>28</th>\n",
       "      <td>Emplear modelos matemáticos para modelizar sit...</td>\n",
       "      <td>1</td>\n",
       "    </tr>\n",
       "    <tr>\n",
       "      <th>74</th>\n",
       "      <td>Es la metodología de investigación utilizada e...</td>\n",
       "      <td>0</td>\n",
       "    </tr>\n",
       "    <tr>\n",
       "      <th>1</th>\n",
       "      <td>Optimización y diseño de operaciones, control ...</td>\n",
       "      <td>0</td>\n",
       "    </tr>\n",
       "    <tr>\n",
       "      <th>53</th>\n",
       "      <td>Es la solución y análisis de situaciones del d...</td>\n",
       "      <td>1</td>\n",
       "    </tr>\n",
       "    <tr>\n",
       "      <th>56</th>\n",
       "      <td>Es el estudio de métodos y tiempos para la tom...</td>\n",
       "      <td>0</td>\n",
       "    </tr>\n",
       "    <tr>\n",
       "      <th>62</th>\n",
       "      <td>Investigar realizando operaciones cuestiones q...</td>\n",
       "      <td>0</td>\n",
       "    </tr>\n",
       "    <tr>\n",
       "      <th>95</th>\n",
       "      <td>Es la aplicación de modelos matemticos a probl...</td>\n",
       "      <td>0</td>\n",
       "    </tr>\n",
       "    <tr>\n",
       "      <th>83</th>\n",
       "      <td>Es el análisis para hallar el camino más efici...</td>\n",
       "      <td>0</td>\n",
       "    </tr>\n",
       "    <tr>\n",
       "      <th>82</th>\n",
       "      <td>Campo que aplica distintos modelos matematicos...</td>\n",
       "      <td>0</td>\n",
       "    </tr>\n",
       "    <tr>\n",
       "      <th>79</th>\n",
       "      <td>Materia dedicada a la investigación y análisis...</td>\n",
       "      <td>0</td>\n",
       "    </tr>\n",
       "    <tr>\n",
       "      <th>81</th>\n",
       "      <td>Se ocupa de métodos analíticos para ayudar a t...</td>\n",
       "      <td>2</td>\n",
       "    </tr>\n",
       "    <tr>\n",
       "      <th>41</th>\n",
       "      <td>Métodos iterativos para encontrar la solución...</td>\n",
       "      <td>1</td>\n",
       "    </tr>\n",
       "    <tr>\n",
       "      <th>114</th>\n",
       "      <td>La investigación operativa es el uso de modelo...</td>\n",
       "      <td>2</td>\n",
       "    </tr>\n",
       "    <tr>\n",
       "      <th>78</th>\n",
       "      <td>Poder traducir en un código distintos algoritm...</td>\n",
       "      <td>0</td>\n",
       "    </tr>\n",
       "    <tr>\n",
       "      <th>39</th>\n",
       "      <td>Cómo resolver problemas aplicando modelos mate...</td>\n",
       "      <td>2</td>\n",
       "    </tr>\n",
       "  </tbody>\n",
       "</table>\n",
       "</div>"
      ],
      "text/plain": [
       "                                            respuestas  predicción\n",
       "0    Se basa en  la utilización de métodos analític...           2\n",
       "19   Aplicación de la ciencia moderna a problemas c...           0\n",
       "30   La investigación operativa es crear programas ...           0\n",
       "85   Es poder encontrar soluciones racionales a pro...           2\n",
       "60   Es el procesamiento de datos para un objetivo....           0\n",
       "3    La optimización de las operaciones mediante el...           0\n",
       "67   Una aplicación para poder resolver problemas c...           2\n",
       "94   Da apoyo en la toma de decisiones mediante aut...           0\n",
       "101  Una materia muy interesante, en la cual vamos ...           0\n",
       "70   El empleo de modelos que ayudan a resolver cue...           0\n",
       "28   Emplear modelos matemáticos para modelizar sit...           1\n",
       "74   Es la metodología de investigación utilizada e...           0\n",
       "1    Optimización y diseño de operaciones, control ...           0\n",
       "53   Es la solución y análisis de situaciones del d...           1\n",
       "56   Es el estudio de métodos y tiempos para la tom...           0\n",
       "62   Investigar realizando operaciones cuestiones q...           0\n",
       "95   Es la aplicación de modelos matemticos a probl...           0\n",
       "83   Es el análisis para hallar el camino más efici...           0\n",
       "82   Campo que aplica distintos modelos matematicos...           0\n",
       "79   Materia dedicada a la investigación y análisis...           0\n",
       "81   Se ocupa de métodos analíticos para ayudar a t...           2\n",
       "41    Métodos iterativos para encontrar la solución...           1\n",
       "114  La investigación operativa es el uso de modelo...           2\n",
       "78   Poder traducir en un código distintos algoritm...           0\n",
       "39   Cómo resolver problemas aplicando modelos mate...           2"
      ]
     },
     "execution_count": 144,
     "metadata": {},
     "output_type": "execute_result"
    }
   ],
   "source": [
    "df_res"
   ]
  },
  {
   "cell_type": "markdown",
   "id": "b9e4b4d1",
   "metadata": {},
   "source": [
    "## Análisis\n"
   ]
  },
  {
   "cell_type": "markdown",
   "id": "5224a4f7",
   "metadata": {},
   "source": [
    "# Cálculo del mejor alpha"
   ]
  },
  {
   "cell_type": "code",
   "execution_count": 204,
   "id": "fe3d9966",
   "metadata": {},
   "outputs": [],
   "source": [
    "alphas = np.arange(0,1,0.05)\n",
    "def calcular_alpha(alphas):\n",
    "     nb = MultinomialNB(alpha=alpha)\n",
    "     nb.fit(count_train, y_train)\n",
    "     pred = nb.predict(count_test)\n",
    "     return metrics.accuracy_score(y_test, pred)"
   ]
  },
  {
   "cell_type": "code",
   "execution_count": 205,
   "id": "4bc4e373",
   "metadata": {},
   "outputs": [
    {
     "name": "stderr",
     "output_type": "stream",
     "text": [
      "d:\\Users\\User\\anaconda3\\lib\\site-packages\\sklearn\\naive_bayes.py:555: UserWarning: alpha too small will result in numeric errors, setting alpha = 1.0e-10\n",
      "  warnings.warn(\n"
     ]
    }
   ],
   "source": [
    "valor=[]\n",
    "i=0\n",
    "for alpha in alphas:\n",
    "    valor.append(calcular_alpha(alpha))\n",
    "    i+=1\n",
    "    "
   ]
  },
  {
   "cell_type": "code",
   "execution_count": 206,
   "id": "5562c48e",
   "metadata": {},
   "outputs": [
    {
     "data": {
      "text/plain": [
       "array([0.56, 0.64, 0.68, 0.68, 0.72, 0.76, 0.76, 0.76, 0.76, 0.8 , 0.8 ,\n",
       "       0.8 , 0.8 , 0.8 , 0.8 , 0.8 , 0.8 , 0.8 , 0.8 , 0.8 ])"
      ]
     },
     "execution_count": 206,
     "metadata": {},
     "output_type": "execute_result"
    }
   ],
   "source": [
    "valor = np.array(valor)\n",
    "valor"
   ]
  },
  {
   "cell_type": "code",
   "execution_count": 207,
   "id": "ed07e14a",
   "metadata": {},
   "outputs": [
    {
     "data": {
      "image/png": "[encoded data removed]",
      "text/plain": [
       "<Figure size 432x288 with 1 Axes>"
      ]
     },
     "metadata": {
      "needs_background": "light"
     },
     "output_type": "display_data"
    }
   ],
   "source": [
    "plt.plot(alphas,valor)\n",
    "plt.show()"
   ]
  },
  {
   "cell_type": "code",
   "execution_count": 208,
   "id": "b21d4749",
   "metadata": {},
   "outputs": [],
   "source": [
    "df_res.to_excel(\"C:/Users/User/Desktop/resultados.xlsx\")"
   ]
  }
 ],
 "metadata": {
  "kernelspec": {
   "display_name": "Python 3 (ipykernel)",
   "language": "python",
   "name": "python3"
  },
  "language_info": {
   "codemirror_mode": {
    "name": "ipython",
    "version": 3
   },
   "file_extension": ".py",
   "mimetype": "text/x-python",
   "name": "python",
   "nbconvert_exporter": "python",
   "pygments_lexer": "ipython3",
   "version": "3.8.8"
  }
 },
 "nbformat": 4,
 "nbformat_minor": 5
}
